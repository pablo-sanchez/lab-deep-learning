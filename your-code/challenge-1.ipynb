{
  "cells": [
    {
      "cell_type": "markdown",
      "metadata": {
        "id": "9gyD2Nwjxqff"
      },
      "source": [
        "# Challenge 1 - Tic Tac Toe\n",
        "\n",
        "In this lab you will perform deep learning analysis on a dataset of playing [Tic Tac Toe](https://en.wikipedia.org/wiki/Tic-tac-toe).\n",
        "\n",
        "There are 9 grids in Tic Tac Toe that are coded as the following picture shows:\n",
        "\n",
        "![Tic Tac Toe Grids](tttboard.jpg)\n",
        "\n",
        "In the first 9 columns of the dataset you can find which marks (`x` or `o`) exist in the grids. If there is no mark in a certain grid, it is labeled as `b`. The last column is `class` which tells you whether Player X (who always moves first in Tic Tac Toe) wins in this configuration. Note that when `class` has the value `False`, it means either Player O wins the game or it ends up as a draw."
      ]
    },
    {
      "cell_type": "code",
      "execution_count": 1,
      "metadata": {
        "id": "E118ehqexqfj"
      },
      "outputs": [],
      "source": [
        "import pandas as pd\n",
        "import numpy as np\n",
        "from sklearn.model_selection import train_test_split\n",
        "from sklearn.preprocessing import OneHotEncoder, PowerTransformer, MinMaxScaler\n",
        "\n",
        "\n",
        "import matplotlib.pyplot as plt\n",
        "import seaborn as sns\n",
        "%matplotlib inline\n",
        "\n",
        "import tensorflow as tf\n",
        "from tensorflow import keras\n",
        "from tensorflow.keras.layers import Flatten, Dense, Dropout\n",
        "from tensorflow.keras import regularizers\n",
        "from tensorflow.keras.losses import sparse_categorical_crossentropy\n",
        "\n",
        "from sklearn.metrics import cohen_kappa_score, classification_report, accuracy_score\n",
        "\n",
        "from tensorflow.keras.callbacks import EarlyStopping\n",
        "from tensorflow.keras.callbacks import ModelCheckpoint\n"
      ]
    },
    {
      "cell_type": "code",
      "source": [
        "from google.colab import drive\n",
        "drive.mount(\"/content/drive\")"
      ],
      "metadata": {
        "colab": {
          "base_uri": "https://localhost:8080/"
        },
        "id": "sxEi_r0VzOp0",
        "outputId": "d8fa1e31-bc90-4dce-d121-c739ccd68817"
      },
      "execution_count": 2,
      "outputs": [
        {
          "output_type": "stream",
          "name": "stdout",
          "text": [
            "Mounted at /content/drive\n"
          ]
        }
      ]
    },
    {
      "cell_type": "markdown",
      "metadata": {
        "id": "Jgwv_zmpxqfi"
      },
      "source": [
        "Follow the steps suggested below to conduct a neural network analysis using Tensorflow and Keras. You will build a deep learning model to predict whether Player X wins the game or not.\n",
        "\n",
        "## Step 1: Data Engineering\n",
        "\n",
        "This dataset is almost in the ready-to-use state so you do not need to worry about missing values and so on. Still, some simple data engineering is needed.\n",
        "\n",
        "1. Read `tic-tac-toe.csv` into a dataframe.\n",
        "1. Inspect the dataset. Determine if the dataset is reliable by eyeballing the data.\n",
        "1. Convert the categorical values to numeric in all columns.\n",
        "1. Separate the inputs and output.\n",
        "1. Normalize the input data."
      ]
    },
    {
      "cell_type": "markdown",
      "source": [
        "**Read tic-tac-toe.csv into a dataframe.**"
      ],
      "metadata": {
        "id": "I1aticAD4SFk"
      }
    },
    {
      "cell_type": "code",
      "source": [
        "ttt = pd.read_csv('/content/drive/MyDrive/Ironhack/Bootcamp/Deep_Learning_Lab/tic-tac-toe.csv')\n",
        "ttt"
      ],
      "metadata": {
        "id": "BtEUn0fNy8WD",
        "colab": {
          "base_uri": "https://localhost:8080/",
          "height": 424
        },
        "outputId": "ce203f3c-78d0-431f-954c-c88a4ec0ba53"
      },
      "execution_count": 3,
      "outputs": [
        {
          "output_type": "execute_result",
          "data": {
            "text/plain": [
              "    TL TM TR ML MM MR BL BM BR  class\n",
              "0    x  x  x  x  o  o  x  o  o   True\n",
              "1    x  x  x  x  o  o  o  x  o   True\n",
              "2    x  x  x  x  o  o  o  o  x   True\n",
              "3    x  x  x  x  o  o  o  b  b   True\n",
              "4    x  x  x  x  o  o  b  o  b   True\n",
              "..  .. .. .. .. .. .. .. .. ..    ...\n",
              "953  o  x  x  x  o  o  o  x  x  False\n",
              "954  o  x  o  x  x  o  x  o  x  False\n",
              "955  o  x  o  x  o  x  x  o  x  False\n",
              "956  o  x  o  o  x  x  x  o  x  False\n",
              "957  o  o  x  x  x  o  o  x  x  False\n",
              "\n",
              "[958 rows x 10 columns]"
            ],
            "text/html": [
              "\n",
              "  <div id=\"df-e5264be7-c444-4e9f-9297-99f423f973eb\">\n",
              "    <div class=\"colab-df-container\">\n",
              "      <div>\n",
              "<style scoped>\n",
              "    .dataframe tbody tr th:only-of-type {\n",
              "        vertical-align: middle;\n",
              "    }\n",
              "\n",
              "    .dataframe tbody tr th {\n",
              "        vertical-align: top;\n",
              "    }\n",
              "\n",
              "    .dataframe thead th {\n",
              "        text-align: right;\n",
              "    }\n",
              "</style>\n",
              "<table border=\"1\" class=\"dataframe\">\n",
              "  <thead>\n",
              "    <tr style=\"text-align: right;\">\n",
              "      <th></th>\n",
              "      <th>TL</th>\n",
              "      <th>TM</th>\n",
              "      <th>TR</th>\n",
              "      <th>ML</th>\n",
              "      <th>MM</th>\n",
              "      <th>MR</th>\n",
              "      <th>BL</th>\n",
              "      <th>BM</th>\n",
              "      <th>BR</th>\n",
              "      <th>class</th>\n",
              "    </tr>\n",
              "  </thead>\n",
              "  <tbody>\n",
              "    <tr>\n",
              "      <th>0</th>\n",
              "      <td>x</td>\n",
              "      <td>x</td>\n",
              "      <td>x</td>\n",
              "      <td>x</td>\n",
              "      <td>o</td>\n",
              "      <td>o</td>\n",
              "      <td>x</td>\n",
              "      <td>o</td>\n",
              "      <td>o</td>\n",
              "      <td>True</td>\n",
              "    </tr>\n",
              "    <tr>\n",
              "      <th>1</th>\n",
              "      <td>x</td>\n",
              "      <td>x</td>\n",
              "      <td>x</td>\n",
              "      <td>x</td>\n",
              "      <td>o</td>\n",
              "      <td>o</td>\n",
              "      <td>o</td>\n",
              "      <td>x</td>\n",
              "      <td>o</td>\n",
              "      <td>True</td>\n",
              "    </tr>\n",
              "    <tr>\n",
              "      <th>2</th>\n",
              "      <td>x</td>\n",
              "      <td>x</td>\n",
              "      <td>x</td>\n",
              "      <td>x</td>\n",
              "      <td>o</td>\n",
              "      <td>o</td>\n",
              "      <td>o</td>\n",
              "      <td>o</td>\n",
              "      <td>x</td>\n",
              "      <td>True</td>\n",
              "    </tr>\n",
              "    <tr>\n",
              "      <th>3</th>\n",
              "      <td>x</td>\n",
              "      <td>x</td>\n",
              "      <td>x</td>\n",
              "      <td>x</td>\n",
              "      <td>o</td>\n",
              "      <td>o</td>\n",
              "      <td>o</td>\n",
              "      <td>b</td>\n",
              "      <td>b</td>\n",
              "      <td>True</td>\n",
              "    </tr>\n",
              "    <tr>\n",
              "      <th>4</th>\n",
              "      <td>x</td>\n",
              "      <td>x</td>\n",
              "      <td>x</td>\n",
              "      <td>x</td>\n",
              "      <td>o</td>\n",
              "      <td>o</td>\n",
              "      <td>b</td>\n",
              "      <td>o</td>\n",
              "      <td>b</td>\n",
              "      <td>True</td>\n",
              "    </tr>\n",
              "    <tr>\n",
              "      <th>...</th>\n",
              "      <td>...</td>\n",
              "      <td>...</td>\n",
              "      <td>...</td>\n",
              "      <td>...</td>\n",
              "      <td>...</td>\n",
              "      <td>...</td>\n",
              "      <td>...</td>\n",
              "      <td>...</td>\n",
              "      <td>...</td>\n",
              "      <td>...</td>\n",
              "    </tr>\n",
              "    <tr>\n",
              "      <th>953</th>\n",
              "      <td>o</td>\n",
              "      <td>x</td>\n",
              "      <td>x</td>\n",
              "      <td>x</td>\n",
              "      <td>o</td>\n",
              "      <td>o</td>\n",
              "      <td>o</td>\n",
              "      <td>x</td>\n",
              "      <td>x</td>\n",
              "      <td>False</td>\n",
              "    </tr>\n",
              "    <tr>\n",
              "      <th>954</th>\n",
              "      <td>o</td>\n",
              "      <td>x</td>\n",
              "      <td>o</td>\n",
              "      <td>x</td>\n",
              "      <td>x</td>\n",
              "      <td>o</td>\n",
              "      <td>x</td>\n",
              "      <td>o</td>\n",
              "      <td>x</td>\n",
              "      <td>False</td>\n",
              "    </tr>\n",
              "    <tr>\n",
              "      <th>955</th>\n",
              "      <td>o</td>\n",
              "      <td>x</td>\n",
              "      <td>o</td>\n",
              "      <td>x</td>\n",
              "      <td>o</td>\n",
              "      <td>x</td>\n",
              "      <td>x</td>\n",
              "      <td>o</td>\n",
              "      <td>x</td>\n",
              "      <td>False</td>\n",
              "    </tr>\n",
              "    <tr>\n",
              "      <th>956</th>\n",
              "      <td>o</td>\n",
              "      <td>x</td>\n",
              "      <td>o</td>\n",
              "      <td>o</td>\n",
              "      <td>x</td>\n",
              "      <td>x</td>\n",
              "      <td>x</td>\n",
              "      <td>o</td>\n",
              "      <td>x</td>\n",
              "      <td>False</td>\n",
              "    </tr>\n",
              "    <tr>\n",
              "      <th>957</th>\n",
              "      <td>o</td>\n",
              "      <td>o</td>\n",
              "      <td>x</td>\n",
              "      <td>x</td>\n",
              "      <td>x</td>\n",
              "      <td>o</td>\n",
              "      <td>o</td>\n",
              "      <td>x</td>\n",
              "      <td>x</td>\n",
              "      <td>False</td>\n",
              "    </tr>\n",
              "  </tbody>\n",
              "</table>\n",
              "<p>958 rows × 10 columns</p>\n",
              "</div>\n",
              "      <button class=\"colab-df-convert\" onclick=\"convertToInteractive('df-e5264be7-c444-4e9f-9297-99f423f973eb')\"\n",
              "              title=\"Convert this dataframe to an interactive table.\"\n",
              "              style=\"display:none;\">\n",
              "        \n",
              "  <svg xmlns=\"http://www.w3.org/2000/svg\" height=\"24px\"viewBox=\"0 0 24 24\"\n",
              "       width=\"24px\">\n",
              "    <path d=\"M0 0h24v24H0V0z\" fill=\"none\"/>\n",
              "    <path d=\"M18.56 5.44l.94 2.06.94-2.06 2.06-.94-2.06-.94-.94-2.06-.94 2.06-2.06.94zm-11 1L8.5 8.5l.94-2.06 2.06-.94-2.06-.94L8.5 2.5l-.94 2.06-2.06.94zm10 10l.94 2.06.94-2.06 2.06-.94-2.06-.94-.94-2.06-.94 2.06-2.06.94z\"/><path d=\"M17.41 7.96l-1.37-1.37c-.4-.4-.92-.59-1.43-.59-.52 0-1.04.2-1.43.59L10.3 9.45l-7.72 7.72c-.78.78-.78 2.05 0 2.83L4 21.41c.39.39.9.59 1.41.59.51 0 1.02-.2 1.41-.59l7.78-7.78 2.81-2.81c.8-.78.8-2.07 0-2.86zM5.41 20L4 18.59l7.72-7.72 1.47 1.35L5.41 20z\"/>\n",
              "  </svg>\n",
              "      </button>\n",
              "      \n",
              "  <style>\n",
              "    .colab-df-container {\n",
              "      display:flex;\n",
              "      flex-wrap:wrap;\n",
              "      gap: 12px;\n",
              "    }\n",
              "\n",
              "    .colab-df-convert {\n",
              "      background-color: #E8F0FE;\n",
              "      border: none;\n",
              "      border-radius: 50%;\n",
              "      cursor: pointer;\n",
              "      display: none;\n",
              "      fill: #1967D2;\n",
              "      height: 32px;\n",
              "      padding: 0 0 0 0;\n",
              "      width: 32px;\n",
              "    }\n",
              "\n",
              "    .colab-df-convert:hover {\n",
              "      background-color: #E2EBFA;\n",
              "      box-shadow: 0px 1px 2px rgba(60, 64, 67, 0.3), 0px 1px 3px 1px rgba(60, 64, 67, 0.15);\n",
              "      fill: #174EA6;\n",
              "    }\n",
              "\n",
              "    [theme=dark] .colab-df-convert {\n",
              "      background-color: #3B4455;\n",
              "      fill: #D2E3FC;\n",
              "    }\n",
              "\n",
              "    [theme=dark] .colab-df-convert:hover {\n",
              "      background-color: #434B5C;\n",
              "      box-shadow: 0px 1px 3px 1px rgba(0, 0, 0, 0.15);\n",
              "      filter: drop-shadow(0px 1px 2px rgba(0, 0, 0, 0.3));\n",
              "      fill: #FFFFFF;\n",
              "    }\n",
              "  </style>\n",
              "\n",
              "      <script>\n",
              "        const buttonEl =\n",
              "          document.querySelector('#df-e5264be7-c444-4e9f-9297-99f423f973eb button.colab-df-convert');\n",
              "        buttonEl.style.display =\n",
              "          google.colab.kernel.accessAllowed ? 'block' : 'none';\n",
              "\n",
              "        async function convertToInteractive(key) {\n",
              "          const element = document.querySelector('#df-e5264be7-c444-4e9f-9297-99f423f973eb');\n",
              "          const dataTable =\n",
              "            await google.colab.kernel.invokeFunction('convertToInteractive',\n",
              "                                                     [key], {});\n",
              "          if (!dataTable) return;\n",
              "\n",
              "          const docLinkHtml = 'Like what you see? Visit the ' +\n",
              "            '<a target=\"_blank\" href=https://colab.research.google.com/notebooks/data_table.ipynb>data table notebook</a>'\n",
              "            + ' to learn more about interactive tables.';\n",
              "          element.innerHTML = '';\n",
              "          dataTable['output_type'] = 'display_data';\n",
              "          await google.colab.output.renderOutput(dataTable, element);\n",
              "          const docLink = document.createElement('div');\n",
              "          docLink.innerHTML = docLinkHtml;\n",
              "          element.appendChild(docLink);\n",
              "        }\n",
              "      </script>\n",
              "    </div>\n",
              "  </div>\n",
              "  "
            ]
          },
          "metadata": {},
          "execution_count": 3
        }
      ]
    },
    {
      "cell_type": "markdown",
      "source": [
        "**Inspect the dataset. Determine if the dataset is reliable by eyeballing the data.**"
      ],
      "metadata": {
        "id": "GXLInWRS4msb"
      }
    },
    {
      "cell_type": "code",
      "source": [
        "for i in ttt.columns:\n",
        "  print(ttt[i].unique())"
      ],
      "metadata": {
        "colab": {
          "base_uri": "https://localhost:8080/"
        },
        "id": "dE-J0YwZ0qrs",
        "outputId": "421ee996-427d-4b6b-f78f-c86b7faed68f"
      },
      "execution_count": 4,
      "outputs": [
        {
          "output_type": "stream",
          "name": "stdout",
          "text": [
            "['x' 'o' 'b']\n",
            "['x' 'o' 'b']\n",
            "['x' 'o' 'b']\n",
            "['x' 'o' 'b']\n",
            "['o' 'b' 'x']\n",
            "['o' 'b' 'x']\n",
            "['x' 'o' 'b']\n",
            "['o' 'x' 'b']\n",
            "['o' 'x' 'b']\n",
            "[ True False]\n"
          ]
        }
      ]
    },
    {
      "cell_type": "code",
      "source": [
        "ttt.info()"
      ],
      "metadata": {
        "colab": {
          "base_uri": "https://localhost:8080/"
        },
        "id": "R4InXTE01oo0",
        "outputId": "9cfff469-eaa9-423f-a257-2bd14ce66266"
      },
      "execution_count": 5,
      "outputs": [
        {
          "output_type": "stream",
          "name": "stdout",
          "text": [
            "<class 'pandas.core.frame.DataFrame'>\n",
            "RangeIndex: 958 entries, 0 to 957\n",
            "Data columns (total 10 columns):\n",
            " #   Column  Non-Null Count  Dtype \n",
            "---  ------  --------------  ----- \n",
            " 0   TL      958 non-null    object\n",
            " 1   TM      958 non-null    object\n",
            " 2   TR      958 non-null    object\n",
            " 3   ML      958 non-null    object\n",
            " 4   MM      958 non-null    object\n",
            " 5   MR      958 non-null    object\n",
            " 6   BL      958 non-null    object\n",
            " 7   BM      958 non-null    object\n",
            " 8   BR      958 non-null    object\n",
            " 9   class   958 non-null    bool  \n",
            "dtypes: bool(1), object(9)\n",
            "memory usage: 68.4+ KB\n"
          ]
        }
      ]
    },
    {
      "cell_type": "markdown",
      "source": [
        "**Separate the inputs and output.**"
      ],
      "metadata": {
        "id": "1ZsnnWtv6eSk"
      }
    },
    {
      "cell_type": "code",
      "source": [
        "y = ttt['class']\n",
        "X = ttt.iloc[:,:-1]"
      ],
      "metadata": {
        "id": "tc2Dd2VM6WJS"
      },
      "execution_count": 6,
      "outputs": []
    },
    {
      "cell_type": "markdown",
      "source": [
        "**Convert the categorical values to numeric in all columns.**"
      ],
      "metadata": {
        "id": "PMjWUfZH4udj"
      }
    },
    {
      "cell_type": "code",
      "source": [
        "encoder = OneHotEncoder(drop='first').fit(X)\n",
        "\n",
        "X_np = encoder.transform(X).toarray()\n",
        "\n",
        "X_encoded = pd.DataFrame(X_np, columns=encoder.get_feature_names_out())"
      ],
      "metadata": {
        "id": "7z09j4pP3hQ9"
      },
      "execution_count": 7,
      "outputs": []
    },
    {
      "cell_type": "markdown",
      "source": [
        "Let's normalize and scale the data "
      ],
      "metadata": {
        "id": "peE7uwAcN5sc"
      }
    },
    {
      "cell_type": "code",
      "source": [
        "X_normalized = PowerTransformer().fit_transform(X_encoded)\n",
        "X_norm = pd.DataFrame(X_normalized, columns = X_encoded.columns)"
      ],
      "metadata": {
        "id": "SkhY5XcMOQgz"
      },
      "execution_count": 8,
      "outputs": []
    },
    {
      "cell_type": "code",
      "source": [
        "X_scaled = MinMaxScaler().fit_transform(X_norm)\n",
        "X_transformed = pd.DataFrame(X_scaled, columns=X_encoded.columns)"
      ],
      "metadata": {
        "id": "gHdQ2POHOQlV"
      },
      "execution_count": 9,
      "outputs": []
    },
    {
      "cell_type": "code",
      "source": [
        "X_transformed"
      ],
      "metadata": {
        "colab": {
          "base_uri": "https://localhost:8080/",
          "height": 424
        },
        "id": "qtMbYOIY8BGr",
        "outputId": "8ce91783-d61f-4fd2-d493-5f8a15831a6a"
      },
      "execution_count": 10,
      "outputs": [
        {
          "output_type": "execute_result",
          "data": {
            "text/plain": [
              "     TL_o  TL_x  TM_o  TM_x  TR_o  TR_x  ML_o  ML_x  MM_o  MM_x  MR_o  MR_x  \\\n",
              "0     0.0   1.0   0.0   1.0   0.0   1.0   0.0   1.0   1.0   0.0   1.0   0.0   \n",
              "1     0.0   1.0   0.0   1.0   0.0   1.0   0.0   1.0   1.0   0.0   1.0   0.0   \n",
              "2     0.0   1.0   0.0   1.0   0.0   1.0   0.0   1.0   1.0   0.0   1.0   0.0   \n",
              "3     0.0   1.0   0.0   1.0   0.0   1.0   0.0   1.0   1.0   0.0   1.0   0.0   \n",
              "4     0.0   1.0   0.0   1.0   0.0   1.0   0.0   1.0   1.0   0.0   1.0   0.0   \n",
              "..    ...   ...   ...   ...   ...   ...   ...   ...   ...   ...   ...   ...   \n",
              "953   1.0   0.0   0.0   1.0   0.0   1.0   0.0   1.0   1.0   0.0   1.0   0.0   \n",
              "954   1.0   0.0   0.0   1.0   1.0   0.0   0.0   1.0   0.0   1.0   1.0   0.0   \n",
              "955   1.0   0.0   0.0   1.0   1.0   0.0   0.0   1.0   1.0   0.0   0.0   1.0   \n",
              "956   1.0   0.0   0.0   1.0   1.0   0.0   1.0   0.0   0.0   1.0   0.0   1.0   \n",
              "957   1.0   0.0   1.0   0.0   0.0   1.0   0.0   1.0   0.0   1.0   1.0   0.0   \n",
              "\n",
              "     BL_o  BL_x  BM_o  BM_x  BR_o  BR_x  \n",
              "0     0.0   1.0   1.0   0.0   1.0   0.0  \n",
              "1     1.0   0.0   0.0   1.0   1.0   0.0  \n",
              "2     1.0   0.0   1.0   0.0   0.0   1.0  \n",
              "3     1.0   0.0   0.0   0.0   0.0   0.0  \n",
              "4     0.0   0.0   1.0   0.0   0.0   0.0  \n",
              "..    ...   ...   ...   ...   ...   ...  \n",
              "953   1.0   0.0   0.0   1.0   0.0   1.0  \n",
              "954   0.0   1.0   1.0   0.0   0.0   1.0  \n",
              "955   0.0   1.0   1.0   0.0   0.0   1.0  \n",
              "956   0.0   1.0   1.0   0.0   0.0   1.0  \n",
              "957   1.0   0.0   0.0   1.0   0.0   1.0  \n",
              "\n",
              "[958 rows x 18 columns]"
            ],
            "text/html": [
              "\n",
              "  <div id=\"df-5617e26b-8d4b-4714-a983-af4b18029ebb\">\n",
              "    <div class=\"colab-df-container\">\n",
              "      <div>\n",
              "<style scoped>\n",
              "    .dataframe tbody tr th:only-of-type {\n",
              "        vertical-align: middle;\n",
              "    }\n",
              "\n",
              "    .dataframe tbody tr th {\n",
              "        vertical-align: top;\n",
              "    }\n",
              "\n",
              "    .dataframe thead th {\n",
              "        text-align: right;\n",
              "    }\n",
              "</style>\n",
              "<table border=\"1\" class=\"dataframe\">\n",
              "  <thead>\n",
              "    <tr style=\"text-align: right;\">\n",
              "      <th></th>\n",
              "      <th>TL_o</th>\n",
              "      <th>TL_x</th>\n",
              "      <th>TM_o</th>\n",
              "      <th>TM_x</th>\n",
              "      <th>TR_o</th>\n",
              "      <th>TR_x</th>\n",
              "      <th>ML_o</th>\n",
              "      <th>ML_x</th>\n",
              "      <th>MM_o</th>\n",
              "      <th>MM_x</th>\n",
              "      <th>MR_o</th>\n",
              "      <th>MR_x</th>\n",
              "      <th>BL_o</th>\n",
              "      <th>BL_x</th>\n",
              "      <th>BM_o</th>\n",
              "      <th>BM_x</th>\n",
              "      <th>BR_o</th>\n",
              "      <th>BR_x</th>\n",
              "    </tr>\n",
              "  </thead>\n",
              "  <tbody>\n",
              "    <tr>\n",
              "      <th>0</th>\n",
              "      <td>0.0</td>\n",
              "      <td>1.0</td>\n",
              "      <td>0.0</td>\n",
              "      <td>1.0</td>\n",
              "      <td>0.0</td>\n",
              "      <td>1.0</td>\n",
              "      <td>0.0</td>\n",
              "      <td>1.0</td>\n",
              "      <td>1.0</td>\n",
              "      <td>0.0</td>\n",
              "      <td>1.0</td>\n",
              "      <td>0.0</td>\n",
              "      <td>0.0</td>\n",
              "      <td>1.0</td>\n",
              "      <td>1.0</td>\n",
              "      <td>0.0</td>\n",
              "      <td>1.0</td>\n",
              "      <td>0.0</td>\n",
              "    </tr>\n",
              "    <tr>\n",
              "      <th>1</th>\n",
              "      <td>0.0</td>\n",
              "      <td>1.0</td>\n",
              "      <td>0.0</td>\n",
              "      <td>1.0</td>\n",
              "      <td>0.0</td>\n",
              "      <td>1.0</td>\n",
              "      <td>0.0</td>\n",
              "      <td>1.0</td>\n",
              "      <td>1.0</td>\n",
              "      <td>0.0</td>\n",
              "      <td>1.0</td>\n",
              "      <td>0.0</td>\n",
              "      <td>1.0</td>\n",
              "      <td>0.0</td>\n",
              "      <td>0.0</td>\n",
              "      <td>1.0</td>\n",
              "      <td>1.0</td>\n",
              "      <td>0.0</td>\n",
              "    </tr>\n",
              "    <tr>\n",
              "      <th>2</th>\n",
              "      <td>0.0</td>\n",
              "      <td>1.0</td>\n",
              "      <td>0.0</td>\n",
              "      <td>1.0</td>\n",
              "      <td>0.0</td>\n",
              "      <td>1.0</td>\n",
              "      <td>0.0</td>\n",
              "      <td>1.0</td>\n",
              "      <td>1.0</td>\n",
              "      <td>0.0</td>\n",
              "      <td>1.0</td>\n",
              "      <td>0.0</td>\n",
              "      <td>1.0</td>\n",
              "      <td>0.0</td>\n",
              "      <td>1.0</td>\n",
              "      <td>0.0</td>\n",
              "      <td>0.0</td>\n",
              "      <td>1.0</td>\n",
              "    </tr>\n",
              "    <tr>\n",
              "      <th>3</th>\n",
              "      <td>0.0</td>\n",
              "      <td>1.0</td>\n",
              "      <td>0.0</td>\n",
              "      <td>1.0</td>\n",
              "      <td>0.0</td>\n",
              "      <td>1.0</td>\n",
              "      <td>0.0</td>\n",
              "      <td>1.0</td>\n",
              "      <td>1.0</td>\n",
              "      <td>0.0</td>\n",
              "      <td>1.0</td>\n",
              "      <td>0.0</td>\n",
              "      <td>1.0</td>\n",
              "      <td>0.0</td>\n",
              "      <td>0.0</td>\n",
              "      <td>0.0</td>\n",
              "      <td>0.0</td>\n",
              "      <td>0.0</td>\n",
              "    </tr>\n",
              "    <tr>\n",
              "      <th>4</th>\n",
              "      <td>0.0</td>\n",
              "      <td>1.0</td>\n",
              "      <td>0.0</td>\n",
              "      <td>1.0</td>\n",
              "      <td>0.0</td>\n",
              "      <td>1.0</td>\n",
              "      <td>0.0</td>\n",
              "      <td>1.0</td>\n",
              "      <td>1.0</td>\n",
              "      <td>0.0</td>\n",
              "      <td>1.0</td>\n",
              "      <td>0.0</td>\n",
              "      <td>0.0</td>\n",
              "      <td>0.0</td>\n",
              "      <td>1.0</td>\n",
              "      <td>0.0</td>\n",
              "      <td>0.0</td>\n",
              "      <td>0.0</td>\n",
              "    </tr>\n",
              "    <tr>\n",
              "      <th>...</th>\n",
              "      <td>...</td>\n",
              "      <td>...</td>\n",
              "      <td>...</td>\n",
              "      <td>...</td>\n",
              "      <td>...</td>\n",
              "      <td>...</td>\n",
              "      <td>...</td>\n",
              "      <td>...</td>\n",
              "      <td>...</td>\n",
              "      <td>...</td>\n",
              "      <td>...</td>\n",
              "      <td>...</td>\n",
              "      <td>...</td>\n",
              "      <td>...</td>\n",
              "      <td>...</td>\n",
              "      <td>...</td>\n",
              "      <td>...</td>\n",
              "      <td>...</td>\n",
              "    </tr>\n",
              "    <tr>\n",
              "      <th>953</th>\n",
              "      <td>1.0</td>\n",
              "      <td>0.0</td>\n",
              "      <td>0.0</td>\n",
              "      <td>1.0</td>\n",
              "      <td>0.0</td>\n",
              "      <td>1.0</td>\n",
              "      <td>0.0</td>\n",
              "      <td>1.0</td>\n",
              "      <td>1.0</td>\n",
              "      <td>0.0</td>\n",
              "      <td>1.0</td>\n",
              "      <td>0.0</td>\n",
              "      <td>1.0</td>\n",
              "      <td>0.0</td>\n",
              "      <td>0.0</td>\n",
              "      <td>1.0</td>\n",
              "      <td>0.0</td>\n",
              "      <td>1.0</td>\n",
              "    </tr>\n",
              "    <tr>\n",
              "      <th>954</th>\n",
              "      <td>1.0</td>\n",
              "      <td>0.0</td>\n",
              "      <td>0.0</td>\n",
              "      <td>1.0</td>\n",
              "      <td>1.0</td>\n",
              "      <td>0.0</td>\n",
              "      <td>0.0</td>\n",
              "      <td>1.0</td>\n",
              "      <td>0.0</td>\n",
              "      <td>1.0</td>\n",
              "      <td>1.0</td>\n",
              "      <td>0.0</td>\n",
              "      <td>0.0</td>\n",
              "      <td>1.0</td>\n",
              "      <td>1.0</td>\n",
              "      <td>0.0</td>\n",
              "      <td>0.0</td>\n",
              "      <td>1.0</td>\n",
              "    </tr>\n",
              "    <tr>\n",
              "      <th>955</th>\n",
              "      <td>1.0</td>\n",
              "      <td>0.0</td>\n",
              "      <td>0.0</td>\n",
              "      <td>1.0</td>\n",
              "      <td>1.0</td>\n",
              "      <td>0.0</td>\n",
              "      <td>0.0</td>\n",
              "      <td>1.0</td>\n",
              "      <td>1.0</td>\n",
              "      <td>0.0</td>\n",
              "      <td>0.0</td>\n",
              "      <td>1.0</td>\n",
              "      <td>0.0</td>\n",
              "      <td>1.0</td>\n",
              "      <td>1.0</td>\n",
              "      <td>0.0</td>\n",
              "      <td>0.0</td>\n",
              "      <td>1.0</td>\n",
              "    </tr>\n",
              "    <tr>\n",
              "      <th>956</th>\n",
              "      <td>1.0</td>\n",
              "      <td>0.0</td>\n",
              "      <td>0.0</td>\n",
              "      <td>1.0</td>\n",
              "      <td>1.0</td>\n",
              "      <td>0.0</td>\n",
              "      <td>1.0</td>\n",
              "      <td>0.0</td>\n",
              "      <td>0.0</td>\n",
              "      <td>1.0</td>\n",
              "      <td>0.0</td>\n",
              "      <td>1.0</td>\n",
              "      <td>0.0</td>\n",
              "      <td>1.0</td>\n",
              "      <td>1.0</td>\n",
              "      <td>0.0</td>\n",
              "      <td>0.0</td>\n",
              "      <td>1.0</td>\n",
              "    </tr>\n",
              "    <tr>\n",
              "      <th>957</th>\n",
              "      <td>1.0</td>\n",
              "      <td>0.0</td>\n",
              "      <td>1.0</td>\n",
              "      <td>0.0</td>\n",
              "      <td>0.0</td>\n",
              "      <td>1.0</td>\n",
              "      <td>0.0</td>\n",
              "      <td>1.0</td>\n",
              "      <td>0.0</td>\n",
              "      <td>1.0</td>\n",
              "      <td>1.0</td>\n",
              "      <td>0.0</td>\n",
              "      <td>1.0</td>\n",
              "      <td>0.0</td>\n",
              "      <td>0.0</td>\n",
              "      <td>1.0</td>\n",
              "      <td>0.0</td>\n",
              "      <td>1.0</td>\n",
              "    </tr>\n",
              "  </tbody>\n",
              "</table>\n",
              "<p>958 rows × 18 columns</p>\n",
              "</div>\n",
              "      <button class=\"colab-df-convert\" onclick=\"convertToInteractive('df-5617e26b-8d4b-4714-a983-af4b18029ebb')\"\n",
              "              title=\"Convert this dataframe to an interactive table.\"\n",
              "              style=\"display:none;\">\n",
              "        \n",
              "  <svg xmlns=\"http://www.w3.org/2000/svg\" height=\"24px\"viewBox=\"0 0 24 24\"\n",
              "       width=\"24px\">\n",
              "    <path d=\"M0 0h24v24H0V0z\" fill=\"none\"/>\n",
              "    <path d=\"M18.56 5.44l.94 2.06.94-2.06 2.06-.94-2.06-.94-.94-2.06-.94 2.06-2.06.94zm-11 1L8.5 8.5l.94-2.06 2.06-.94-2.06-.94L8.5 2.5l-.94 2.06-2.06.94zm10 10l.94 2.06.94-2.06 2.06-.94-2.06-.94-.94-2.06-.94 2.06-2.06.94z\"/><path d=\"M17.41 7.96l-1.37-1.37c-.4-.4-.92-.59-1.43-.59-.52 0-1.04.2-1.43.59L10.3 9.45l-7.72 7.72c-.78.78-.78 2.05 0 2.83L4 21.41c.39.39.9.59 1.41.59.51 0 1.02-.2 1.41-.59l7.78-7.78 2.81-2.81c.8-.78.8-2.07 0-2.86zM5.41 20L4 18.59l7.72-7.72 1.47 1.35L5.41 20z\"/>\n",
              "  </svg>\n",
              "      </button>\n",
              "      \n",
              "  <style>\n",
              "    .colab-df-container {\n",
              "      display:flex;\n",
              "      flex-wrap:wrap;\n",
              "      gap: 12px;\n",
              "    }\n",
              "\n",
              "    .colab-df-convert {\n",
              "      background-color: #E8F0FE;\n",
              "      border: none;\n",
              "      border-radius: 50%;\n",
              "      cursor: pointer;\n",
              "      display: none;\n",
              "      fill: #1967D2;\n",
              "      height: 32px;\n",
              "      padding: 0 0 0 0;\n",
              "      width: 32px;\n",
              "    }\n",
              "\n",
              "    .colab-df-convert:hover {\n",
              "      background-color: #E2EBFA;\n",
              "      box-shadow: 0px 1px 2px rgba(60, 64, 67, 0.3), 0px 1px 3px 1px rgba(60, 64, 67, 0.15);\n",
              "      fill: #174EA6;\n",
              "    }\n",
              "\n",
              "    [theme=dark] .colab-df-convert {\n",
              "      background-color: #3B4455;\n",
              "      fill: #D2E3FC;\n",
              "    }\n",
              "\n",
              "    [theme=dark] .colab-df-convert:hover {\n",
              "      background-color: #434B5C;\n",
              "      box-shadow: 0px 1px 3px 1px rgba(0, 0, 0, 0.15);\n",
              "      filter: drop-shadow(0px 1px 2px rgba(0, 0, 0, 0.3));\n",
              "      fill: #FFFFFF;\n",
              "    }\n",
              "  </style>\n",
              "\n",
              "      <script>\n",
              "        const buttonEl =\n",
              "          document.querySelector('#df-5617e26b-8d4b-4714-a983-af4b18029ebb button.colab-df-convert');\n",
              "        buttonEl.style.display =\n",
              "          google.colab.kernel.accessAllowed ? 'block' : 'none';\n",
              "\n",
              "        async function convertToInteractive(key) {\n",
              "          const element = document.querySelector('#df-5617e26b-8d4b-4714-a983-af4b18029ebb');\n",
              "          const dataTable =\n",
              "            await google.colab.kernel.invokeFunction('convertToInteractive',\n",
              "                                                     [key], {});\n",
              "          if (!dataTable) return;\n",
              "\n",
              "          const docLinkHtml = 'Like what you see? Visit the ' +\n",
              "            '<a target=\"_blank\" href=https://colab.research.google.com/notebooks/data_table.ipynb>data table notebook</a>'\n",
              "            + ' to learn more about interactive tables.';\n",
              "          element.innerHTML = '';\n",
              "          dataTable['output_type'] = 'display_data';\n",
              "          await google.colab.output.renderOutput(dataTable, element);\n",
              "          const docLink = document.createElement('div');\n",
              "          docLink.innerHTML = docLinkHtml;\n",
              "          element.appendChild(docLink);\n",
              "        }\n",
              "      </script>\n",
              "    </div>\n",
              "  </div>\n",
              "  "
            ]
          },
          "metadata": {},
          "execution_count": 10
        }
      ]
    },
    {
      "cell_type": "markdown",
      "metadata": {
        "id": "DCtdJ72txqfk"
      },
      "source": [
        "## Step 2: Build Neural Network\n",
        "\n",
        "To build the neural network, you can refer to your own codes you wrote while following the [Deep Learning with Python, TensorFlow, and Keras tutorial](https://www.youtube.com/watch?v=wQ8BIBpya2k) in the lesson. It's pretty similar to what you will be doing in this lab.\n",
        "\n",
        "1. Split the training and test data.\n",
        "1. Create a `Sequential` model.\n",
        "1. Add several layers to your model. Make sure you use ReLU as the activation function for the middle layers. Use Softmax for the output layer because each output has a single lable and all the label probabilities add up to 1.\n",
        "1. Compile the model using `adam` as the optimizer and `sparse_categorical_crossentropy` as the loss function. For metrics, use `accuracy` for now.\n",
        "1. Fit the training data.\n",
        "1. Evaluate your neural network model with the test data.\n",
        "1. Save your model as `tic-tac-toe.model`."
      ]
    },
    {
      "cell_type": "code",
      "source": [
        "X_train, X_test, y_train, y_test = train_test_split(X_transformed, y, test_size=0.3, random_state=23)"
      ],
      "metadata": {
        "id": "BWHQOPGwNeay"
      },
      "execution_count": 11,
      "outputs": []
    },
    {
      "cell_type": "markdown",
      "source": [
        "**Building the Neural Netwok**"
      ],
      "metadata": {
        "id": "CINSMWU_yJ7X"
      }
    },
    {
      "cell_type": "code",
      "execution_count": 12,
      "metadata": {
        "id": "soLWqkiExqfl",
        "colab": {
          "base_uri": "https://localhost:8080/"
        },
        "outputId": "0c8137f2-ac2c-4adf-926f-f29e54393f13"
      },
      "outputs": [
        {
          "output_type": "stream",
          "name": "stdout",
          "text": [
            "Model: \"sequential\"\n",
            "_________________________________________________________________\n",
            " Layer (type)                Output Shape              Param #   \n",
            "=================================================================\n",
            " dense (Dense)               (None, 16)                304       \n",
            "                                                                 \n",
            " dense_1 (Dense)             (None, 8)                 136       \n",
            "                                                                 \n",
            " dense_2 (Dense)             (None, 2)                 18        \n",
            "                                                                 \n",
            "=================================================================\n",
            "Total params: 458\n",
            "Trainable params: 458\n",
            "Non-trainable params: 0\n",
            "_________________________________________________________________\n"
          ]
        }
      ],
      "source": [
        "early_stopping = EarlyStopping(patience=5)\n",
        "\n",
        "model = keras.Sequential()\n",
        "model.add(Dense(units = 16,input_dim = X_train.shape[1],activation='relu'))\n",
        "model.add(Dense(units = 8,activation='relu'))\n",
        "model.add(Dense(units = 2, activation='softmax'))\n",
        "\n",
        "model.compile(optimizer='adam', loss='sparse_categorical_crossentropy', metrics='accuracy')\n",
        "\n",
        "model.summary()"
      ]
    },
    {
      "cell_type": "markdown",
      "source": [
        "**Adding check point for each epoch**"
      ],
      "metadata": {
        "id": "HKqQXEvwx4kw"
      }
    },
    {
      "cell_type": "code",
      "source": [
        "checkpoint_path = '/content/drive/MyDrive/Ironhack/Bootcamp/Deep_Learning_Lab/model.hdf5'\n",
        "checkpoint = ModelCheckpoint(\n",
        "    filepath=checkpoint_path, # Where to save the checkpoint.\n",
        "    save_freq='epoch', # How often the checkpoint file will be saved.\n",
        "    save_weights_only=False, # Wether or not save only the weights of each neuron.\n",
        "    verbose=1 # To display the progress\n",
        ")"
      ],
      "metadata": {
        "id": "McpQe9A5xOhs"
      },
      "execution_count": 13,
      "outputs": []
    },
    {
      "cell_type": "markdown",
      "source": [
        "**Fitting the training data**"
      ],
      "metadata": {
        "id": "P2gZHMiQyy5R"
      }
    },
    {
      "cell_type": "code",
      "source": [
        "history = model.fit(\n",
        "    X_train, \n",
        "    y_train, \n",
        "    epochs=60, # Number of epochs. \n",
        "    validation_split=0.20, # Here the TRAIN set will be split in TRAIN = TRAIN_NEW + VALIDATION. TRAIN_NEW used for train and val for CV\n",
        "    batch_size=20, # How many samples to input in the network before updating the weights\n",
        "    verbose=2, # To display the progress.\n",
        "    callbacks=[early_stopping,checkpoint])"
      ],
      "metadata": {
        "colab": {
          "base_uri": "https://localhost:8080/"
        },
        "id": "TYk_SLQYx0mP",
        "outputId": "e56eedd8-00de-4f84-c206-f9b8c4284eb4"
      },
      "execution_count": 14,
      "outputs": [
        {
          "output_type": "stream",
          "name": "stdout",
          "text": [
            "Epoch 1/60\n",
            "\n",
            "Epoch 1: saving model to /content/drive/MyDrive/Ironhack/Bootcamp/Deep_Learning_Lab/model.hdf5\n",
            "27/27 - 2s - loss: 0.6564 - accuracy: 0.6549 - val_loss: 0.6401 - val_accuracy: 0.6567 - 2s/epoch - 80ms/step\n",
            "Epoch 2/60\n",
            "\n",
            "Epoch 2: saving model to /content/drive/MyDrive/Ironhack/Bootcamp/Deep_Learning_Lab/model.hdf5\n",
            "27/27 - 0s - loss: 0.6319 - accuracy: 0.6604 - val_loss: 0.6213 - val_accuracy: 0.6716 - 146ms/epoch - 5ms/step\n",
            "Epoch 3/60\n",
            "\n",
            "Epoch 3: saving model to /content/drive/MyDrive/Ironhack/Bootcamp/Deep_Learning_Lab/model.hdf5\n",
            "27/27 - 0s - loss: 0.6147 - accuracy: 0.6642 - val_loss: 0.6067 - val_accuracy: 0.6716 - 155ms/epoch - 6ms/step\n",
            "Epoch 4/60\n",
            "\n",
            "Epoch 4: saving model to /content/drive/MyDrive/Ironhack/Bootcamp/Deep_Learning_Lab/model.hdf5\n",
            "27/27 - 0s - loss: 0.5999 - accuracy: 0.6660 - val_loss: 0.5949 - val_accuracy: 0.6716 - 140ms/epoch - 5ms/step\n",
            "Epoch 5/60\n",
            "\n",
            "Epoch 5: saving model to /content/drive/MyDrive/Ironhack/Bootcamp/Deep_Learning_Lab/model.hdf5\n",
            "27/27 - 0s - loss: 0.5875 - accuracy: 0.6660 - val_loss: 0.5857 - val_accuracy: 0.6866 - 145ms/epoch - 5ms/step\n",
            "Epoch 6/60\n",
            "\n",
            "Epoch 6: saving model to /content/drive/MyDrive/Ironhack/Bootcamp/Deep_Learning_Lab/model.hdf5\n",
            "27/27 - 0s - loss: 0.5753 - accuracy: 0.6940 - val_loss: 0.5777 - val_accuracy: 0.7090 - 147ms/epoch - 5ms/step\n",
            "Epoch 7/60\n",
            "\n",
            "Epoch 7: saving model to /content/drive/MyDrive/Ironhack/Bootcamp/Deep_Learning_Lab/model.hdf5\n",
            "27/27 - 0s - loss: 0.5635 - accuracy: 0.7034 - val_loss: 0.5705 - val_accuracy: 0.7164 - 129ms/epoch - 5ms/step\n",
            "Epoch 8/60\n",
            "\n",
            "Epoch 8: saving model to /content/drive/MyDrive/Ironhack/Bootcamp/Deep_Learning_Lab/model.hdf5\n",
            "27/27 - 0s - loss: 0.5522 - accuracy: 0.7127 - val_loss: 0.5638 - val_accuracy: 0.7239 - 170ms/epoch - 6ms/step\n",
            "Epoch 9/60\n",
            "\n",
            "Epoch 9: saving model to /content/drive/MyDrive/Ironhack/Bootcamp/Deep_Learning_Lab/model.hdf5\n",
            "27/27 - 0s - loss: 0.5415 - accuracy: 0.7407 - val_loss: 0.5559 - val_accuracy: 0.7463 - 189ms/epoch - 7ms/step\n",
            "Epoch 10/60\n",
            "\n",
            "Epoch 10: saving model to /content/drive/MyDrive/Ironhack/Bootcamp/Deep_Learning_Lab/model.hdf5\n",
            "27/27 - 0s - loss: 0.5301 - accuracy: 0.7481 - val_loss: 0.5497 - val_accuracy: 0.7388 - 135ms/epoch - 5ms/step\n",
            "Epoch 11/60\n",
            "\n",
            "Epoch 11: saving model to /content/drive/MyDrive/Ironhack/Bootcamp/Deep_Learning_Lab/model.hdf5\n",
            "27/27 - 0s - loss: 0.5172 - accuracy: 0.7593 - val_loss: 0.5429 - val_accuracy: 0.7388 - 162ms/epoch - 6ms/step\n",
            "Epoch 12/60\n",
            "\n",
            "Epoch 12: saving model to /content/drive/MyDrive/Ironhack/Bootcamp/Deep_Learning_Lab/model.hdf5\n",
            "27/27 - 0s - loss: 0.5054 - accuracy: 0.7687 - val_loss: 0.5356 - val_accuracy: 0.7463 - 127ms/epoch - 5ms/step\n",
            "Epoch 13/60\n",
            "\n",
            "Epoch 13: saving model to /content/drive/MyDrive/Ironhack/Bootcamp/Deep_Learning_Lab/model.hdf5\n",
            "27/27 - 0s - loss: 0.4930 - accuracy: 0.7780 - val_loss: 0.5291 - val_accuracy: 0.7463 - 140ms/epoch - 5ms/step\n",
            "Epoch 14/60\n",
            "\n",
            "Epoch 14: saving model to /content/drive/MyDrive/Ironhack/Bootcamp/Deep_Learning_Lab/model.hdf5\n",
            "27/27 - 0s - loss: 0.4793 - accuracy: 0.7780 - val_loss: 0.5222 - val_accuracy: 0.7313 - 149ms/epoch - 6ms/step\n",
            "Epoch 15/60\n",
            "\n",
            "Epoch 15: saving model to /content/drive/MyDrive/Ironhack/Bootcamp/Deep_Learning_Lab/model.hdf5\n",
            "27/27 - 0s - loss: 0.4660 - accuracy: 0.7892 - val_loss: 0.5156 - val_accuracy: 0.7313 - 129ms/epoch - 5ms/step\n",
            "Epoch 16/60\n",
            "\n",
            "Epoch 16: saving model to /content/drive/MyDrive/Ironhack/Bootcamp/Deep_Learning_Lab/model.hdf5\n",
            "27/27 - 0s - loss: 0.4525 - accuracy: 0.7948 - val_loss: 0.5078 - val_accuracy: 0.7313 - 163ms/epoch - 6ms/step\n",
            "Epoch 17/60\n",
            "\n",
            "Epoch 17: saving model to /content/drive/MyDrive/Ironhack/Bootcamp/Deep_Learning_Lab/model.hdf5\n",
            "27/27 - 0s - loss: 0.4389 - accuracy: 0.8060 - val_loss: 0.5004 - val_accuracy: 0.7388 - 159ms/epoch - 6ms/step\n",
            "Epoch 18/60\n",
            "\n",
            "Epoch 18: saving model to /content/drive/MyDrive/Ironhack/Bootcamp/Deep_Learning_Lab/model.hdf5\n",
            "27/27 - 0s - loss: 0.4256 - accuracy: 0.8116 - val_loss: 0.4946 - val_accuracy: 0.7388 - 161ms/epoch - 6ms/step\n",
            "Epoch 19/60\n",
            "\n",
            "Epoch 19: saving model to /content/drive/MyDrive/Ironhack/Bootcamp/Deep_Learning_Lab/model.hdf5\n",
            "27/27 - 0s - loss: 0.4123 - accuracy: 0.8228 - val_loss: 0.4877 - val_accuracy: 0.7388 - 219ms/epoch - 8ms/step\n",
            "Epoch 20/60\n",
            "\n",
            "Epoch 20: saving model to /content/drive/MyDrive/Ironhack/Bootcamp/Deep_Learning_Lab/model.hdf5\n",
            "27/27 - 0s - loss: 0.3975 - accuracy: 0.8265 - val_loss: 0.4760 - val_accuracy: 0.7463 - 186ms/epoch - 7ms/step\n",
            "Epoch 21/60\n",
            "\n",
            "Epoch 21: saving model to /content/drive/MyDrive/Ironhack/Bootcamp/Deep_Learning_Lab/model.hdf5\n",
            "27/27 - 0s - loss: 0.3839 - accuracy: 0.8414 - val_loss: 0.4667 - val_accuracy: 0.7463 - 181ms/epoch - 7ms/step\n",
            "Epoch 22/60\n",
            "\n",
            "Epoch 22: saving model to /content/drive/MyDrive/Ironhack/Bootcamp/Deep_Learning_Lab/model.hdf5\n",
            "27/27 - 0s - loss: 0.3729 - accuracy: 0.8451 - val_loss: 0.4568 - val_accuracy: 0.7537 - 204ms/epoch - 8ms/step\n",
            "Epoch 23/60\n",
            "\n",
            "Epoch 23: saving model to /content/drive/MyDrive/Ironhack/Bootcamp/Deep_Learning_Lab/model.hdf5\n",
            "27/27 - 0s - loss: 0.3597 - accuracy: 0.8470 - val_loss: 0.4452 - val_accuracy: 0.7612 - 204ms/epoch - 8ms/step\n",
            "Epoch 24/60\n",
            "\n",
            "Epoch 24: saving model to /content/drive/MyDrive/Ironhack/Bootcamp/Deep_Learning_Lab/model.hdf5\n",
            "27/27 - 0s - loss: 0.3441 - accuracy: 0.8638 - val_loss: 0.4355 - val_accuracy: 0.7761 - 187ms/epoch - 7ms/step\n",
            "Epoch 25/60\n",
            "\n",
            "Epoch 25: saving model to /content/drive/MyDrive/Ironhack/Bootcamp/Deep_Learning_Lab/model.hdf5\n",
            "27/27 - 0s - loss: 0.3304 - accuracy: 0.8675 - val_loss: 0.4264 - val_accuracy: 0.7687 - 192ms/epoch - 7ms/step\n",
            "Epoch 26/60\n",
            "\n",
            "Epoch 26: saving model to /content/drive/MyDrive/Ironhack/Bootcamp/Deep_Learning_Lab/model.hdf5\n",
            "27/27 - 0s - loss: 0.3162 - accuracy: 0.8825 - val_loss: 0.4144 - val_accuracy: 0.7687 - 187ms/epoch - 7ms/step\n",
            "Epoch 27/60\n",
            "\n",
            "Epoch 27: saving model to /content/drive/MyDrive/Ironhack/Bootcamp/Deep_Learning_Lab/model.hdf5\n",
            "27/27 - 0s - loss: 0.3015 - accuracy: 0.8862 - val_loss: 0.4025 - val_accuracy: 0.7687 - 186ms/epoch - 7ms/step\n",
            "Epoch 28/60\n",
            "\n",
            "Epoch 28: saving model to /content/drive/MyDrive/Ironhack/Bootcamp/Deep_Learning_Lab/model.hdf5\n",
            "27/27 - 0s - loss: 0.2879 - accuracy: 0.8899 - val_loss: 0.3917 - val_accuracy: 0.7836 - 219ms/epoch - 8ms/step\n",
            "Epoch 29/60\n",
            "\n",
            "Epoch 29: saving model to /content/drive/MyDrive/Ironhack/Bootcamp/Deep_Learning_Lab/model.hdf5\n",
            "27/27 - 0s - loss: 0.2749 - accuracy: 0.9030 - val_loss: 0.3826 - val_accuracy: 0.7910 - 187ms/epoch - 7ms/step\n",
            "Epoch 30/60\n",
            "\n",
            "Epoch 30: saving model to /content/drive/MyDrive/Ironhack/Bootcamp/Deep_Learning_Lab/model.hdf5\n",
            "27/27 - 0s - loss: 0.2623 - accuracy: 0.9030 - val_loss: 0.3693 - val_accuracy: 0.7910 - 229ms/epoch - 8ms/step\n",
            "Epoch 31/60\n",
            "\n",
            "Epoch 31: saving model to /content/drive/MyDrive/Ironhack/Bootcamp/Deep_Learning_Lab/model.hdf5\n",
            "27/27 - 0s - loss: 0.2485 - accuracy: 0.9142 - val_loss: 0.3557 - val_accuracy: 0.8060 - 198ms/epoch - 7ms/step\n",
            "Epoch 32/60\n",
            "\n",
            "Epoch 32: saving model to /content/drive/MyDrive/Ironhack/Bootcamp/Deep_Learning_Lab/model.hdf5\n",
            "27/27 - 0s - loss: 0.2359 - accuracy: 0.9198 - val_loss: 0.3407 - val_accuracy: 0.8209 - 212ms/epoch - 8ms/step\n",
            "Epoch 33/60\n",
            "\n",
            "Epoch 33: saving model to /content/drive/MyDrive/Ironhack/Bootcamp/Deep_Learning_Lab/model.hdf5\n",
            "27/27 - 0s - loss: 0.2235 - accuracy: 0.9328 - val_loss: 0.3287 - val_accuracy: 0.8433 - 223ms/epoch - 8ms/step\n",
            "Epoch 34/60\n",
            "\n",
            "Epoch 34: saving model to /content/drive/MyDrive/Ironhack/Bootcamp/Deep_Learning_Lab/model.hdf5\n",
            "27/27 - 0s - loss: 0.2118 - accuracy: 0.9403 - val_loss: 0.3195 - val_accuracy: 0.8358 - 200ms/epoch - 7ms/step\n",
            "Epoch 35/60\n",
            "\n",
            "Epoch 35: saving model to /content/drive/MyDrive/Ironhack/Bootcamp/Deep_Learning_Lab/model.hdf5\n",
            "27/27 - 0s - loss: 0.1991 - accuracy: 0.9403 - val_loss: 0.3050 - val_accuracy: 0.8731 - 236ms/epoch - 9ms/step\n",
            "Epoch 36/60\n",
            "\n",
            "Epoch 36: saving model to /content/drive/MyDrive/Ironhack/Bootcamp/Deep_Learning_Lab/model.hdf5\n",
            "27/27 - 0s - loss: 0.1910 - accuracy: 0.9459 - val_loss: 0.2840 - val_accuracy: 0.8881 - 226ms/epoch - 8ms/step\n",
            "Epoch 37/60\n",
            "\n",
            "Epoch 37: saving model to /content/drive/MyDrive/Ironhack/Bootcamp/Deep_Learning_Lab/model.hdf5\n",
            "27/27 - 0s - loss: 0.1784 - accuracy: 0.9590 - val_loss: 0.2803 - val_accuracy: 0.8582 - 195ms/epoch - 7ms/step\n",
            "Epoch 38/60\n",
            "\n",
            "Epoch 38: saving model to /content/drive/MyDrive/Ironhack/Bootcamp/Deep_Learning_Lab/model.hdf5\n",
            "27/27 - 0s - loss: 0.1705 - accuracy: 0.9571 - val_loss: 0.2633 - val_accuracy: 0.9179 - 233ms/epoch - 9ms/step\n",
            "Epoch 39/60\n",
            "\n",
            "Epoch 39: saving model to /content/drive/MyDrive/Ironhack/Bootcamp/Deep_Learning_Lab/model.hdf5\n",
            "27/27 - 0s - loss: 0.1598 - accuracy: 0.9627 - val_loss: 0.2501 - val_accuracy: 0.9179 - 174ms/epoch - 6ms/step\n",
            "Epoch 40/60\n",
            "\n",
            "Epoch 40: saving model to /content/drive/MyDrive/Ironhack/Bootcamp/Deep_Learning_Lab/model.hdf5\n",
            "27/27 - 0s - loss: 0.1500 - accuracy: 0.9627 - val_loss: 0.2431 - val_accuracy: 0.9179 - 136ms/epoch - 5ms/step\n",
            "Epoch 41/60\n",
            "\n",
            "Epoch 41: saving model to /content/drive/MyDrive/Ironhack/Bootcamp/Deep_Learning_Lab/model.hdf5\n",
            "27/27 - 0s - loss: 0.1420 - accuracy: 0.9683 - val_loss: 0.2308 - val_accuracy: 0.9104 - 139ms/epoch - 5ms/step\n",
            "Epoch 42/60\n",
            "\n",
            "Epoch 42: saving model to /content/drive/MyDrive/Ironhack/Bootcamp/Deep_Learning_Lab/model.hdf5\n",
            "27/27 - 0s - loss: 0.1342 - accuracy: 0.9701 - val_loss: 0.2255 - val_accuracy: 0.9254 - 131ms/epoch - 5ms/step\n",
            "Epoch 43/60\n",
            "\n",
            "Epoch 43: saving model to /content/drive/MyDrive/Ironhack/Bootcamp/Deep_Learning_Lab/model.hdf5\n",
            "27/27 - 0s - loss: 0.1252 - accuracy: 0.9776 - val_loss: 0.2172 - val_accuracy: 0.9179 - 137ms/epoch - 5ms/step\n",
            "Epoch 44/60\n",
            "\n",
            "Epoch 44: saving model to /content/drive/MyDrive/Ironhack/Bootcamp/Deep_Learning_Lab/model.hdf5\n",
            "27/27 - 0s - loss: 0.1184 - accuracy: 0.9739 - val_loss: 0.2052 - val_accuracy: 0.9179 - 153ms/epoch - 6ms/step\n",
            "Epoch 45/60\n",
            "\n",
            "Epoch 45: saving model to /content/drive/MyDrive/Ironhack/Bootcamp/Deep_Learning_Lab/model.hdf5\n",
            "27/27 - 0s - loss: 0.1138 - accuracy: 0.9757 - val_loss: 0.1997 - val_accuracy: 0.9254 - 151ms/epoch - 6ms/step\n",
            "Epoch 46/60\n",
            "\n",
            "Epoch 46: saving model to /content/drive/MyDrive/Ironhack/Bootcamp/Deep_Learning_Lab/model.hdf5\n",
            "27/27 - 0s - loss: 0.1055 - accuracy: 0.9813 - val_loss: 0.1935 - val_accuracy: 0.9403 - 141ms/epoch - 5ms/step\n",
            "Epoch 47/60\n",
            "\n",
            "Epoch 47: saving model to /content/drive/MyDrive/Ironhack/Bootcamp/Deep_Learning_Lab/model.hdf5\n",
            "27/27 - 0s - loss: 0.0987 - accuracy: 0.9832 - val_loss: 0.1859 - val_accuracy: 0.9328 - 154ms/epoch - 6ms/step\n",
            "Epoch 48/60\n",
            "\n",
            "Epoch 48: saving model to /content/drive/MyDrive/Ironhack/Bootcamp/Deep_Learning_Lab/model.hdf5\n",
            "27/27 - 0s - loss: 0.0937 - accuracy: 0.9869 - val_loss: 0.1816 - val_accuracy: 0.9328 - 140ms/epoch - 5ms/step\n",
            "Epoch 49/60\n",
            "\n",
            "Epoch 49: saving model to /content/drive/MyDrive/Ironhack/Bootcamp/Deep_Learning_Lab/model.hdf5\n",
            "27/27 - 0s - loss: 0.0890 - accuracy: 0.9851 - val_loss: 0.1740 - val_accuracy: 0.9403 - 127ms/epoch - 5ms/step\n",
            "Epoch 50/60\n",
            "\n",
            "Epoch 50: saving model to /content/drive/MyDrive/Ironhack/Bootcamp/Deep_Learning_Lab/model.hdf5\n",
            "27/27 - 0s - loss: 0.0850 - accuracy: 0.9869 - val_loss: 0.1704 - val_accuracy: 0.9478 - 141ms/epoch - 5ms/step\n",
            "Epoch 51/60\n",
            "\n",
            "Epoch 51: saving model to /content/drive/MyDrive/Ironhack/Bootcamp/Deep_Learning_Lab/model.hdf5\n",
            "27/27 - 0s - loss: 0.0812 - accuracy: 0.9869 - val_loss: 0.1671 - val_accuracy: 0.9328 - 144ms/epoch - 5ms/step\n",
            "Epoch 52/60\n",
            "\n",
            "Epoch 52: saving model to /content/drive/MyDrive/Ironhack/Bootcamp/Deep_Learning_Lab/model.hdf5\n",
            "27/27 - 0s - loss: 0.0772 - accuracy: 0.9869 - val_loss: 0.1608 - val_accuracy: 0.9478 - 137ms/epoch - 5ms/step\n",
            "Epoch 53/60\n",
            "\n",
            "Epoch 53: saving model to /content/drive/MyDrive/Ironhack/Bootcamp/Deep_Learning_Lab/model.hdf5\n",
            "27/27 - 0s - loss: 0.0724 - accuracy: 0.9869 - val_loss: 0.1555 - val_accuracy: 0.9478 - 142ms/epoch - 5ms/step\n",
            "Epoch 54/60\n",
            "\n",
            "Epoch 54: saving model to /content/drive/MyDrive/Ironhack/Bootcamp/Deep_Learning_Lab/model.hdf5\n",
            "27/27 - 0s - loss: 0.0683 - accuracy: 0.9869 - val_loss: 0.1510 - val_accuracy: 0.9478 - 141ms/epoch - 5ms/step\n",
            "Epoch 55/60\n",
            "\n",
            "Epoch 55: saving model to /content/drive/MyDrive/Ironhack/Bootcamp/Deep_Learning_Lab/model.hdf5\n",
            "27/27 - 0s - loss: 0.0654 - accuracy: 0.9888 - val_loss: 0.1491 - val_accuracy: 0.9403 - 157ms/epoch - 6ms/step\n",
            "Epoch 56/60\n",
            "\n",
            "Epoch 56: saving model to /content/drive/MyDrive/Ironhack/Bootcamp/Deep_Learning_Lab/model.hdf5\n",
            "27/27 - 0s - loss: 0.0637 - accuracy: 0.9907 - val_loss: 0.1453 - val_accuracy: 0.9478 - 141ms/epoch - 5ms/step\n",
            "Epoch 57/60\n",
            "\n",
            "Epoch 57: saving model to /content/drive/MyDrive/Ironhack/Bootcamp/Deep_Learning_Lab/model.hdf5\n",
            "27/27 - 0s - loss: 0.0599 - accuracy: 0.9925 - val_loss: 0.1410 - val_accuracy: 0.9552 - 146ms/epoch - 5ms/step\n",
            "Epoch 58/60\n",
            "\n",
            "Epoch 58: saving model to /content/drive/MyDrive/Ironhack/Bootcamp/Deep_Learning_Lab/model.hdf5\n",
            "27/27 - 0s - loss: 0.0553 - accuracy: 0.9925 - val_loss: 0.1380 - val_accuracy: 0.9478 - 159ms/epoch - 6ms/step\n",
            "Epoch 59/60\n",
            "\n",
            "Epoch 59: saving model to /content/drive/MyDrive/Ironhack/Bootcamp/Deep_Learning_Lab/model.hdf5\n",
            "27/27 - 0s - loss: 0.0535 - accuracy: 0.9925 - val_loss: 0.1349 - val_accuracy: 0.9552 - 147ms/epoch - 5ms/step\n",
            "Epoch 60/60\n",
            "\n",
            "Epoch 60: saving model to /content/drive/MyDrive/Ironhack/Bootcamp/Deep_Learning_Lab/model.hdf5\n",
            "27/27 - 0s - loss: 0.0520 - accuracy: 0.9963 - val_loss: 0.1332 - val_accuracy: 0.9552 - 152ms/epoch - 6ms/step\n"
          ]
        }
      ]
    },
    {
      "cell_type": "code",
      "source": [
        "def plot_metrics(history, metric, metric2):\n",
        "    train_metrics = history.history[metric] # Get the error metric for the TRAIN set\n",
        "    val_metrics = history.history['val_'+metric] # Get the error metric for the VALIDATION set\n",
        "\n",
        "    train_metrics2 = history.history[metric2] # Get the error metric for the TRAIN set\n",
        "    val_metrics2 = history.history['val_'+metric2] # Get the error metric for the VALIDATION set\n",
        "\n",
        "    epochs = range(1, len(train_metrics) + 1) # range(1,6) -> 1,2,3,4,5\n",
        "       \n",
        "    fig, (ax1, ax2) = plt.subplots(1,2, figsize=(15,5))\n",
        "    ax1.plot(epochs, train_metrics)\n",
        "    ax1.plot(epochs, val_metrics)\n",
        "    ax1.set_xlabel(\"Epochs\")\n",
        "    ax1.set_ylabel(metric)\n",
        "    ax1.set_yscale('log')\n",
        "    ax1.legend([\"train_\"+metric, 'val_'+metric])\n",
        "\n",
        "    ax2.plot(epochs, train_metrics2)\n",
        "    ax2.plot(epochs, val_metrics2)\n",
        "    ax2.set_xlabel(\"Epochs\")\n",
        "    ax2.set_ylabel(metric2)\n",
        "    ax2.set_yscale('log')\n",
        "    ax2.legend([\"train_\"+metric2, 'val_'+metric2])\n",
        "\n",
        "    plt.show()"
      ],
      "metadata": {
        "id": "47dsaxdwzExd"
      },
      "execution_count": 15,
      "outputs": []
    },
    {
      "cell_type": "code",
      "source": [
        "plot_metrics(history,'loss','accuracy')"
      ],
      "metadata": {
        "colab": {
          "base_uri": "https://localhost:8080/",
          "height": 334
        },
        "id": "QHp8LZ7tzPJX",
        "outputId": "475d571f-d403-4d15-99dd-1a3763a75206"
      },
      "execution_count": 16,
      "outputs": [
        {
          "output_type": "display_data",
          "data": {
            "text/plain": [
              "<Figure size 1080x360 with 2 Axes>"
            ],
            "image/png": "[encoded data removed]"
          },
          "metadata": {
            "needs_background": "light"
          }
        }
      ]
    },
    {
      "cell_type": "markdown",
      "source": [
        "**Evaluating the performance of the best model**"
      ],
      "metadata": {
        "id": "TTaZ6ajnzrZb"
      }
    },
    {
      "cell_type": "code",
      "source": [
        "def model_performance_class(y_train, y_pred_train, y_test, y_pred_test):\n",
        "\n",
        "    print(\"Results obtained for the TRAIN SET\")\n",
        "    print(\"==================================\")\n",
        "    print(\"The Cohen's Kappa is: {:.2f}\".format(cohen_kappa_score(y_train, y_pred_train)))\n",
        "    print(classification_report(y_train, y_pred_train))\n",
        "    print(\"==================================\")\n",
        "    print(\"Results obtained for the TEST SET\")\n",
        "    print(\"The Cohen's Kappa is: {:.2f}\".format(cohen_kappa_score(y_test, y_pred_test)))\n",
        "    print(classification_report(y_test, y_pred_test))"
      ],
      "metadata": {
        "id": "SxWUQxZPzpS4"
      },
      "execution_count": 17,
      "outputs": []
    },
    {
      "cell_type": "code",
      "source": [
        "y_pred_tr = np.argmax(model.predict(X_train), axis=1).reshape(-1,1)\n",
        "y_pred_te = np.argmax(model.predict(X_test), axis=1).reshape(-1,1)\n",
        "\n",
        "model_performance_class(y_train, y_pred_tr, y_test, y_pred_te)"
      ],
      "metadata": {
        "colab": {
          "base_uri": "https://localhost:8080/"
        },
        "id": "Xl7a51450CuH",
        "outputId": "cf1ad3e9-4585-42a6-bf87-7a06cee13ad0"
      },
      "execution_count": 18,
      "outputs": [
        {
          "output_type": "stream",
          "name": "stdout",
          "text": [
            "21/21 [==============================] - 0s 2ms/step\n",
            "9/9 [==============================] - 0s 2ms/step\n",
            "Results obtained for the TRAIN SET\n",
            "==================================\n",
            "The Cohen's Kappa is: 0.97\n",
            "              precision    recall  f1-score   support\n",
            "\n",
            "       False       0.98      0.99      0.98       236\n",
            "        True       0.99      0.99      0.99       434\n",
            "\n",
            "    accuracy                           0.99       670\n",
            "   macro avg       0.99      0.99      0.99       670\n",
            "weighted avg       0.99      0.99      0.99       670\n",
            "\n",
            "==================================\n",
            "Results obtained for the TEST SET\n",
            "The Cohen's Kappa is: 0.95\n",
            "              precision    recall  f1-score   support\n",
            "\n",
            "       False       0.97      0.96      0.96        96\n",
            "        True       0.98      0.98      0.98       192\n",
            "\n",
            "    accuracy                           0.98       288\n",
            "   macro avg       0.97      0.97      0.97       288\n",
            "weighted avg       0.98      0.98      0.98       288\n",
            "\n"
          ]
        }
      ]
    },
    {
      "cell_type": "markdown",
      "source": [
        "**Saving the best model**"
      ],
      "metadata": {
        "id": "IugUYWvG0geo"
      }
    },
    {
      "cell_type": "code",
      "source": [
        "import pickle\n",
        "with open('/content/drive/MyDrive/Ironhack/Bootcamp/Deep_Learning_Lab/tic-tac-toe_model.pkl', 'wb') as file: pickle.dump(model, file)\n",
        "\n",
        "best_model = pd.read_pickle('/content/drive/MyDrive/Ironhack/Bootcamp/Deep_Learning_Lab/tic-tac-toe_model.pkl')"
      ],
      "metadata": {
        "colab": {
          "base_uri": "https://localhost:8080/"
        },
        "id": "AQ9lPXxr0cwP",
        "outputId": "24214fa1-e9e9-4635-fc3e-99ba7dc84c84"
      },
      "execution_count": 19,
      "outputs": [
        {
          "output_type": "stream",
          "name": "stdout",
          "text": [
            "Keras weights file (<HDF5 file \"variables.h5\" (mode r+)>) saving:\n",
            "...layers\n",
            "......dense\n",
            ".........vars\n",
            "............0\n",
            "............1\n",
            "......dense_1\n",
            ".........vars\n",
            "............0\n",
            "............1\n",
            "......dense_2\n",
            ".........vars\n",
            "............0\n",
            "............1\n",
            "...metrics\n",
            "......mean\n",
            ".........vars\n",
            "............0\n",
            "............1\n",
            "......mean_metric_wrapper\n",
            ".........vars\n",
            "............0\n",
            "............1\n",
            "...optimizer\n",
            "......vars\n",
            ".........0\n",
            ".........1\n",
            ".........10\n",
            ".........11\n",
            ".........12\n",
            ".........2\n",
            ".........3\n",
            ".........4\n",
            ".........5\n",
            ".........6\n",
            ".........7\n",
            ".........8\n",
            ".........9\n",
            "...vars\n",
            "Keras model archive saving:\n",
            "File Name                                             Modified             Size\n",
            "metadata.json                                  2023-03-29 10:11:36           64\n",
            "config.json                                    2023-03-29 10:11:36         1833\n",
            "variables.h5                                   2023-03-29 10:11:36        29328\n",
            "Keras model archive loading:\n",
            "File Name                                             Modified             Size\n",
            "metadata.json                                  2023-03-29 10:11:36           64\n",
            "config.json                                    2023-03-29 10:11:36         1833\n",
            "variables.h5                                   2023-03-29 10:11:36        29328\n",
            "Keras weights file (<HDF5 file \"variables.h5\" (mode r)>) loading:\n",
            "...layers\n",
            "......dense\n",
            ".........vars\n",
            "............0\n",
            "............1\n",
            "......dense_1\n",
            ".........vars\n",
            "............0\n",
            "............1\n",
            "......dense_2\n",
            ".........vars\n",
            "............0\n",
            "............1\n",
            "...metrics\n",
            "......mean\n",
            ".........vars\n",
            "............0\n",
            "............1\n",
            "......mean_metric_wrapper\n",
            ".........vars\n",
            "............0\n",
            "............1\n",
            "...optimizer\n",
            "......vars\n",
            ".........0\n",
            ".........1\n",
            ".........10\n",
            ".........11\n",
            ".........12\n",
            ".........2\n",
            ".........3\n",
            ".........4\n",
            ".........5\n",
            ".........6\n",
            ".........7\n",
            ".........8\n",
            ".........9\n",
            "...vars\n"
          ]
        }
      ]
    },
    {
      "cell_type": "markdown",
      "metadata": {
        "id": "ZdkYuWlzxqfn"
      },
      "source": [
        "## Step 3: Make Predictions\n",
        "\n",
        "Now load your saved model and use it to make predictions on a few random rows in the test dataset. Check if the predictions are correct."
      ]
    },
    {
      "cell_type": "code",
      "execution_count": 20,
      "metadata": {
        "id": "CKiNaCA8xqfn",
        "colab": {
          "base_uri": "https://localhost:8080/"
        },
        "outputId": "e89494a3-cb5d-4105-dd23-f88bbb34a801"
      },
      "outputs": [
        {
          "output_type": "execute_result",
          "data": {
            "text/plain": [
              "class\n",
              "True     434\n",
              "False    236\n",
              "dtype: int64"
            ]
          },
          "metadata": {},
          "execution_count": 20
        }
      ],
      "source": [
        "pd.DataFrame(y_train).value_counts()"
      ]
    },
    {
      "cell_type": "code",
      "source": [
        "def check_predictions(x,y,row):\n",
        "  y=list(y)[row]\n",
        "  x = x.loc[row:row,:]\n",
        "\n",
        "  prediction = np.argmax(best_model.predict(x), axis=1).reshape(-1,1)\n",
        "  if prediction==1: p = True\n",
        "  else: p = False\n",
        "\n",
        "  if y == p: a='right'\n",
        "  else: a='wrong'\n",
        "\n",
        "  return print('Result is {} and prediction is {}'.format(y,a))"
      ],
      "metadata": {
        "id": "TBIuiVs370RB"
      },
      "execution_count": 21,
      "outputs": []
    },
    {
      "cell_type": "code",
      "source": [
        "check_predictions(X_train,y_train,200)"
      ],
      "metadata": {
        "colab": {
          "base_uri": "https://localhost:8080/"
        },
        "id": "nMUVx4sX8N0u",
        "outputId": "3b7124ae-65bc-4714-a7d0-3c1e0f6ef8d6"
      },
      "execution_count": 22,
      "outputs": [
        {
          "output_type": "stream",
          "name": "stdout",
          "text": [
            "1/1 [==============================] - 0s 68ms/step\n",
            "Result is False and prediction is wrong\n"
          ]
        }
      ]
    },
    {
      "cell_type": "code",
      "source": [
        "check_predictions(X_test,y_test,45)"
      ],
      "metadata": {
        "colab": {
          "base_uri": "https://localhost:8080/"
        },
        "id": "wSVQ7sfE9JFH",
        "outputId": "6717f4e3-8422-44ac-8e8f-a8787a3f7ee4"
      },
      "execution_count": 23,
      "outputs": [
        {
          "output_type": "stream",
          "name": "stdout",
          "text": [
            "1/1 [==============================] - 0s 25ms/step\n",
            "Result is True and prediction is right\n"
          ]
        }
      ]
    },
    {
      "cell_type": "code",
      "source": [
        "check_predictions(X_train,y_train,5)"
      ],
      "metadata": {
        "colab": {
          "base_uri": "https://localhost:8080/"
        },
        "id": "q5dIuS5s8XQC",
        "outputId": "de742da5-73c6-4478-865f-ff22120fbee8"
      },
      "execution_count": 24,
      "outputs": [
        {
          "output_type": "stream",
          "name": "stdout",
          "text": [
            "1/1 [==============================] - 0s 26ms/step\n",
            "Result is True and prediction is right\n"
          ]
        }
      ]
    },
    {
      "cell_type": "code",
      "source": [
        "check_predictions(X_test,y_test,167)"
      ],
      "metadata": {
        "colab": {
          "base_uri": "https://localhost:8080/"
        },
        "id": "oHxT-6IN9fPY",
        "outputId": "59da4a5a-733b-42ea-a0d3-3a549ed1131f"
      },
      "execution_count": 25,
      "outputs": [
        {
          "output_type": "stream",
          "name": "stdout",
          "text": [
            "1/1 [==============================] - 0s 25ms/step\n",
            "Result is True and prediction is right\n"
          ]
        }
      ]
    },
    {
      "cell_type": "markdown",
      "metadata": {
        "id": "8lRBJnjwxqfo"
      },
      "source": [
        "## Step 4: Improve Your Model\n",
        "\n",
        "Did your model achieve low loss (<0.1) and high accuracy (>0.95)? If not, try to improve your model.\n",
        "\n",
        "But how? There are so many things you can play with in Tensorflow and in the next challenge you'll learn about these things. But in this challenge, let's just do a few things to see if they will help.\n",
        "\n",
        "* Add more layers to your model. If the data are complex you need more layers. But don't use more layers than you need. If adding more layers does not improve the model performance you don't need additional layers.\n",
        "* Adjust the learning rate when you compile the model. This means you will create a custom `tf.keras.optimizers.Adam` instance where you specify the learning rate you want. Then pass the instance to `model.compile` as the optimizer.\n",
        "    * `tf.keras.optimizers.Adam` [reference](https://www.tensorflow.org/api_docs/python/tf/keras/optimizers/Adam).\n",
        "    * Don't worry if you don't understand what the learning rate does. You'll learn about it in the next challenge.\n",
        "* Adjust the number of epochs when you fit the training data to the model. Your model performance continues to improve as you train more epochs. But eventually it will reach the ceiling and the performance will stay the same."
      ]
    },
    {
      "cell_type": "markdown",
      "source": [
        "###Adding more layers"
      ],
      "metadata": {
        "id": "_GVr8LKo99mX"
      }
    },
    {
      "cell_type": "markdown",
      "source": [
        "**Creating the new model**"
      ],
      "metadata": {
        "id": "1zRfKBzN_LGP"
      }
    },
    {
      "cell_type": "code",
      "execution_count": 26,
      "metadata": {
        "id": "4PS_e_LHxqfp"
      },
      "outputs": [],
      "source": [
        "early_stopping = EarlyStopping(patience=5) \n",
        "\n",
        "model2 = keras.Sequential()\n",
        "#hidden layers\n",
        "model2.add(Dense(units = 64,input_dim = X_train.shape[1],activation='relu'))\n",
        "model2.add(Dense(units = 16,activation='relu'))\n",
        "model2.add(Dense(units = 8,activation='relu'))\n",
        "#final layer\n",
        "model2.add(Dense(units = 2, activation='softmax'))\n",
        "\n",
        "model2.compile(optimizer='adam',\n",
        "              loss='sparse_categorical_crossentropy',\n",
        "              metrics='accuracy')"
      ]
    },
    {
      "cell_type": "markdown",
      "source": [
        "**Fitting the model**"
      ],
      "metadata": {
        "id": "jnJgPVBu_c6g"
      }
    },
    {
      "cell_type": "code",
      "source": [
        "history2 = model2.fit(\n",
        "    X_train, \n",
        "    y_train, \n",
        "    epochs=60,\n",
        "    validation_split=0.20,\n",
        "    batch_size=20,\n",
        "    callbacks=[early_stopping,checkpoint])"
      ],
      "metadata": {
        "colab": {
          "base_uri": "https://localhost:8080/"
        },
        "id": "mVgHLCvt-bBv",
        "outputId": "b5895f01-165f-4cd0-d69a-c49546ed2910"
      },
      "execution_count": 27,
      "outputs": [
        {
          "output_type": "stream",
          "name": "stdout",
          "text": [
            "Epoch 1/60\n",
            "25/27 [==========================>...] - ETA: 0s - loss: 0.6583 - accuracy: 0.6440 \n",
            "Epoch 1: saving model to /content/drive/MyDrive/Ironhack/Bootcamp/Deep_Learning_Lab/model.hdf5\n",
            "27/27 [==============================] - 2s 31ms/step - loss: 0.6588 - accuracy: 0.6437 - val_loss: 0.6263 - val_accuracy: 0.6791\n",
            "Epoch 2/60\n",
            "26/27 [===========================>..] - ETA: 0s - loss: 0.6150 - accuracy: 0.6942\n",
            "Epoch 2: saving model to /content/drive/MyDrive/Ironhack/Bootcamp/Deep_Learning_Lab/model.hdf5\n",
            "27/27 [==============================] - 0s 6ms/step - loss: 0.6128 - accuracy: 0.6996 - val_loss: 0.5938 - val_accuracy: 0.7239\n",
            "Epoch 3/60\n",
            "24/27 [=========================>....] - ETA: 0s - loss: 0.5705 - accuracy: 0.7375\n",
            "Epoch 3: saving model to /content/drive/MyDrive/Ironhack/Bootcamp/Deep_Learning_Lab/model.hdf5\n",
            "27/27 [==============================] - 0s 6ms/step - loss: 0.5649 - accuracy: 0.7481 - val_loss: 0.5733 - val_accuracy: 0.7313\n",
            "Epoch 4/60\n",
            "24/27 [=========================>....] - ETA: 0s - loss: 0.5290 - accuracy: 0.7729\n",
            "Epoch 4: saving model to /content/drive/MyDrive/Ironhack/Bootcamp/Deep_Learning_Lab/model.hdf5\n",
            "27/27 [==============================] - 0s 6ms/step - loss: 0.5246 - accuracy: 0.7743 - val_loss: 0.5613 - val_accuracy: 0.7090\n",
            "Epoch 5/60\n",
            "24/27 [=========================>....] - ETA: 0s - loss: 0.5044 - accuracy: 0.7729\n",
            "Epoch 5: saving model to /content/drive/MyDrive/Ironhack/Bootcamp/Deep_Learning_Lab/model.hdf5\n",
            "27/27 [==============================] - 0s 6ms/step - loss: 0.4974 - accuracy: 0.7761 - val_loss: 0.5550 - val_accuracy: 0.7015\n",
            "Epoch 6/60\n",
            "23/27 [========================>.....] - ETA: 0s - loss: 0.4664 - accuracy: 0.7957\n",
            "Epoch 6: saving model to /content/drive/MyDrive/Ironhack/Bootcamp/Deep_Learning_Lab/model.hdf5\n",
            "27/27 [==============================] - 0s 6ms/step - loss: 0.4689 - accuracy: 0.7929 - val_loss: 0.5111 - val_accuracy: 0.7612\n",
            "Epoch 7/60\n",
            "19/27 [====================>.........] - ETA: 0s - loss: 0.4420 - accuracy: 0.8211\n",
            "Epoch 7: saving model to /content/drive/MyDrive/Ironhack/Bootcamp/Deep_Learning_Lab/model.hdf5\n",
            "27/27 [==============================] - 0s 6ms/step - loss: 0.4306 - accuracy: 0.8284 - val_loss: 0.4916 - val_accuracy: 0.7164\n",
            "Epoch 8/60\n",
            "19/27 [====================>.........] - ETA: 0s - loss: 0.3964 - accuracy: 0.8526\n",
            "Epoch 8: saving model to /content/drive/MyDrive/Ironhack/Bootcamp/Deep_Learning_Lab/model.hdf5\n",
            "27/27 [==============================] - 0s 7ms/step - loss: 0.3924 - accuracy: 0.8526 - val_loss: 0.4521 - val_accuracy: 0.7537\n",
            "Epoch 9/60\n",
            "25/27 [==========================>...] - ETA: 0s - loss: 0.3515 - accuracy: 0.8700\n",
            "Epoch 9: saving model to /content/drive/MyDrive/Ironhack/Bootcamp/Deep_Learning_Lab/model.hdf5\n",
            "27/27 [==============================] - 0s 6ms/step - loss: 0.3470 - accuracy: 0.8713 - val_loss: 0.4197 - val_accuracy: 0.7761\n",
            "Epoch 10/60\n",
            "24/27 [=========================>....] - ETA: 0s - loss: 0.3069 - accuracy: 0.8958\n",
            "Epoch 10: saving model to /content/drive/MyDrive/Ironhack/Bootcamp/Deep_Learning_Lab/model.hdf5\n",
            "27/27 [==============================] - 0s 6ms/step - loss: 0.2995 - accuracy: 0.9030 - val_loss: 0.3583 - val_accuracy: 0.8358\n",
            "Epoch 11/60\n",
            "16/27 [================>.............] - ETA: 0s - loss: 0.2513 - accuracy: 0.9281\n",
            "Epoch 11: saving model to /content/drive/MyDrive/Ironhack/Bootcamp/Deep_Learning_Lab/model.hdf5\n",
            "27/27 [==============================] - 0s 7ms/step - loss: 0.2425 - accuracy: 0.9347 - val_loss: 0.2959 - val_accuracy: 0.8806\n",
            "Epoch 12/60\n",
            "26/27 [===========================>..] - ETA: 0s - loss: 0.1896 - accuracy: 0.9558\n",
            "Epoch 12: saving model to /content/drive/MyDrive/Ironhack/Bootcamp/Deep_Learning_Lab/model.hdf5\n",
            "27/27 [==============================] - 0s 6ms/step - loss: 0.1880 - accuracy: 0.9571 - val_loss: 0.2380 - val_accuracy: 0.9254\n",
            "Epoch 13/60\n",
            "24/27 [=========================>....] - ETA: 0s - loss: 0.1443 - accuracy: 0.9792\n",
            "Epoch 13: saving model to /content/drive/MyDrive/Ironhack/Bootcamp/Deep_Learning_Lab/model.hdf5\n",
            "27/27 [==============================] - 0s 6ms/step - loss: 0.1397 - accuracy: 0.9813 - val_loss: 0.1810 - val_accuracy: 0.9552\n",
            "Epoch 14/60\n",
            "24/27 [=========================>....] - ETA: 0s - loss: 0.1028 - accuracy: 0.9833\n",
            "Epoch 14: saving model to /content/drive/MyDrive/Ironhack/Bootcamp/Deep_Learning_Lab/model.hdf5\n",
            "27/27 [==============================] - 0s 7ms/step - loss: 0.1044 - accuracy: 0.9832 - val_loss: 0.1609 - val_accuracy: 0.9478\n",
            "Epoch 15/60\n",
            "27/27 [==============================] - ETA: 0s - loss: 0.0904 - accuracy: 0.9851\n",
            "Epoch 15: saving model to /content/drive/MyDrive/Ironhack/Bootcamp/Deep_Learning_Lab/model.hdf5\n",
            "27/27 [==============================] - 0s 6ms/step - loss: 0.0904 - accuracy: 0.9851 - val_loss: 0.1465 - val_accuracy: 0.9478\n",
            "Epoch 16/60\n",
            "25/27 [==========================>...] - ETA: 0s - loss: 0.0769 - accuracy: 0.9880\n",
            "Epoch 16: saving model to /content/drive/MyDrive/Ironhack/Bootcamp/Deep_Learning_Lab/model.hdf5\n",
            "27/27 [==============================] - 0s 6ms/step - loss: 0.0737 - accuracy: 0.9888 - val_loss: 0.1072 - val_accuracy: 0.9627\n",
            "Epoch 17/60\n",
            "25/27 [==========================>...] - ETA: 0s - loss: 0.0519 - accuracy: 0.9940\n",
            "Epoch 17: saving model to /content/drive/MyDrive/Ironhack/Bootcamp/Deep_Learning_Lab/model.hdf5\n",
            "27/27 [==============================] - 0s 6ms/step - loss: 0.0503 - accuracy: 0.9944 - val_loss: 0.0940 - val_accuracy: 0.9701\n",
            "Epoch 18/60\n",
            "26/27 [===========================>..] - ETA: 0s - loss: 0.0415 - accuracy: 0.9981\n",
            "Epoch 18: saving model to /content/drive/MyDrive/Ironhack/Bootcamp/Deep_Learning_Lab/model.hdf5\n",
            "27/27 [==============================] - 0s 5ms/step - loss: 0.0417 - accuracy: 0.9981 - val_loss: 0.0754 - val_accuracy: 0.9851\n",
            "Epoch 19/60\n",
            "23/27 [========================>.....] - ETA: 0s - loss: 0.0330 - accuracy: 1.0000\n",
            "Epoch 19: saving model to /content/drive/MyDrive/Ironhack/Bootcamp/Deep_Learning_Lab/model.hdf5\n",
            "27/27 [==============================] - 0s 6ms/step - loss: 0.0327 - accuracy: 1.0000 - val_loss: 0.0613 - val_accuracy: 0.9925\n",
            "Epoch 20/60\n",
            "20/27 [=====================>........] - ETA: 0s - loss: 0.0245 - accuracy: 0.9975\n",
            "Epoch 20: saving model to /content/drive/MyDrive/Ironhack/Bootcamp/Deep_Learning_Lab/model.hdf5\n",
            "27/27 [==============================] - 0s 6ms/step - loss: 0.0284 - accuracy: 0.9981 - val_loss: 0.0536 - val_accuracy: 0.9925\n",
            "Epoch 21/60\n",
            "22/27 [=======================>......] - ETA: 0s - loss: 0.0242 - accuracy: 1.0000\n",
            "Epoch 21: saving model to /content/drive/MyDrive/Ironhack/Bootcamp/Deep_Learning_Lab/model.hdf5\n",
            "27/27 [==============================] - 0s 6ms/step - loss: 0.0226 - accuracy: 1.0000 - val_loss: 0.0617 - val_accuracy: 0.9776\n",
            "Epoch 22/60\n",
            "22/27 [=======================>......] - ETA: 0s - loss: 0.0206 - accuracy: 0.9977\n",
            "Epoch 22: saving model to /content/drive/MyDrive/Ironhack/Bootcamp/Deep_Learning_Lab/model.hdf5\n",
            "27/27 [==============================] - 0s 6ms/step - loss: 0.0198 - accuracy: 0.9981 - val_loss: 0.0502 - val_accuracy: 0.9851\n",
            "Epoch 23/60\n",
            "25/27 [==========================>...] - ETA: 0s - loss: 0.0174 - accuracy: 1.0000\n",
            "Epoch 23: saving model to /content/drive/MyDrive/Ironhack/Bootcamp/Deep_Learning_Lab/model.hdf5\n",
            "27/27 [==============================] - 0s 7ms/step - loss: 0.0171 - accuracy: 1.0000 - val_loss: 0.0491 - val_accuracy: 0.9851\n",
            "Epoch 24/60\n",
            "23/27 [========================>.....] - ETA: 0s - loss: 0.0137 - accuracy: 1.0000\n",
            "Epoch 24: saving model to /content/drive/MyDrive/Ironhack/Bootcamp/Deep_Learning_Lab/model.hdf5\n",
            "27/27 [==============================] - 0s 6ms/step - loss: 0.0153 - accuracy: 1.0000 - val_loss: 0.0455 - val_accuracy: 0.9925\n",
            "Epoch 25/60\n",
            "25/27 [==========================>...] - ETA: 0s - loss: 0.0164 - accuracy: 1.0000\n",
            "Epoch 25: saving model to /content/drive/MyDrive/Ironhack/Bootcamp/Deep_Learning_Lab/model.hdf5\n",
            "27/27 [==============================] - 0s 6ms/step - loss: 0.0159 - accuracy: 1.0000 - val_loss: 0.0328 - val_accuracy: 1.0000\n",
            "Epoch 26/60\n",
            "22/27 [=======================>......] - ETA: 0s - loss: 0.0142 - accuracy: 1.0000\n",
            "Epoch 26: saving model to /content/drive/MyDrive/Ironhack/Bootcamp/Deep_Learning_Lab/model.hdf5\n",
            "27/27 [==============================] - 0s 6ms/step - loss: 0.0135 - accuracy: 1.0000 - val_loss: 0.0337 - val_accuracy: 1.0000\n",
            "Epoch 27/60\n",
            "25/27 [==========================>...] - ETA: 0s - loss: 0.0102 - accuracy: 1.0000\n",
            "Epoch 27: saving model to /content/drive/MyDrive/Ironhack/Bootcamp/Deep_Learning_Lab/model.hdf5\n",
            "27/27 [==============================] - 0s 6ms/step - loss: 0.0099 - accuracy: 1.0000 - val_loss: 0.0316 - val_accuracy: 0.9851\n",
            "Epoch 28/60\n",
            "25/27 [==========================>...] - ETA: 0s - loss: 0.0081 - accuracy: 1.0000\n",
            "Epoch 28: saving model to /content/drive/MyDrive/Ironhack/Bootcamp/Deep_Learning_Lab/model.hdf5\n",
            "27/27 [==============================] - 0s 6ms/step - loss: 0.0085 - accuracy: 1.0000 - val_loss: 0.0344 - val_accuracy: 0.9851\n",
            "Epoch 29/60\n",
            "23/27 [========================>.....] - ETA: 0s - loss: 0.0075 - accuracy: 1.0000\n",
            "Epoch 29: saving model to /content/drive/MyDrive/Ironhack/Bootcamp/Deep_Learning_Lab/model.hdf5\n",
            "27/27 [==============================] - 0s 6ms/step - loss: 0.0080 - accuracy: 1.0000 - val_loss: 0.0380 - val_accuracy: 0.9851\n",
            "Epoch 30/60\n",
            "23/27 [========================>.....] - ETA: 0s - loss: 0.0073 - accuracy: 1.0000\n",
            "Epoch 30: saving model to /content/drive/MyDrive/Ironhack/Bootcamp/Deep_Learning_Lab/model.hdf5\n",
            "27/27 [==============================] - 0s 6ms/step - loss: 0.0076 - accuracy: 1.0000 - val_loss: 0.0330 - val_accuracy: 0.9851\n",
            "Epoch 31/60\n",
            "23/27 [========================>.....] - ETA: 0s - loss: 0.0062 - accuracy: 1.0000\n",
            "Epoch 31: saving model to /content/drive/MyDrive/Ironhack/Bootcamp/Deep_Learning_Lab/model.hdf5\n",
            "27/27 [==============================] - 0s 6ms/step - loss: 0.0062 - accuracy: 1.0000 - val_loss: 0.0290 - val_accuracy: 0.9851\n",
            "Epoch 32/60\n",
            "23/27 [========================>.....] - ETA: 0s - loss: 0.0054 - accuracy: 1.0000\n",
            "Epoch 32: saving model to /content/drive/MyDrive/Ironhack/Bootcamp/Deep_Learning_Lab/model.hdf5\n",
            "27/27 [==============================] - 0s 8ms/step - loss: 0.0055 - accuracy: 1.0000 - val_loss: 0.0321 - val_accuracy: 0.9851\n",
            "Epoch 33/60\n",
            "23/27 [========================>.....] - ETA: 0s - loss: 0.0049 - accuracy: 1.0000\n",
            "Epoch 33: saving model to /content/drive/MyDrive/Ironhack/Bootcamp/Deep_Learning_Lab/model.hdf5\n",
            "27/27 [==============================] - 0s 9ms/step - loss: 0.0049 - accuracy: 1.0000 - val_loss: 0.0259 - val_accuracy: 0.9851\n",
            "Epoch 34/60\n",
            "24/27 [=========================>....] - ETA: 0s - loss: 0.0045 - accuracy: 1.0000\n",
            "Epoch 34: saving model to /content/drive/MyDrive/Ironhack/Bootcamp/Deep_Learning_Lab/model.hdf5\n",
            "27/27 [==============================] - 0s 10ms/step - loss: 0.0044 - accuracy: 1.0000 - val_loss: 0.0249 - val_accuracy: 0.9925\n",
            "Epoch 35/60\n",
            "16/27 [================>.............] - ETA: 0s - loss: 0.0039 - accuracy: 1.0000\n",
            "Epoch 35: saving model to /content/drive/MyDrive/Ironhack/Bootcamp/Deep_Learning_Lab/model.hdf5\n",
            "27/27 [==============================] - 0s 8ms/step - loss: 0.0039 - accuracy: 1.0000 - val_loss: 0.0245 - val_accuracy: 0.9851\n",
            "Epoch 36/60\n",
            "15/27 [===============>..............] - ETA: 0s - loss: 0.0030 - accuracy: 1.0000\n",
            "Epoch 36: saving model to /content/drive/MyDrive/Ironhack/Bootcamp/Deep_Learning_Lab/model.hdf5\n",
            "27/27 [==============================] - 0s 8ms/step - loss: 0.0036 - accuracy: 1.0000 - val_loss: 0.0273 - val_accuracy: 0.9851\n",
            "Epoch 37/60\n",
            "14/27 [==============>...............] - ETA: 0s - loss: 0.0031 - accuracy: 1.0000\n",
            "Epoch 37: saving model to /content/drive/MyDrive/Ironhack/Bootcamp/Deep_Learning_Lab/model.hdf5\n",
            "27/27 [==============================] - 0s 8ms/step - loss: 0.0034 - accuracy: 1.0000 - val_loss: 0.0260 - val_accuracy: 0.9851\n",
            "Epoch 38/60\n",
            "16/27 [================>.............] - ETA: 0s - loss: 0.0032 - accuracy: 1.0000\n",
            "Epoch 38: saving model to /content/drive/MyDrive/Ironhack/Bootcamp/Deep_Learning_Lab/model.hdf5\n",
            "27/27 [==============================] - 0s 8ms/step - loss: 0.0032 - accuracy: 1.0000 - val_loss: 0.0240 - val_accuracy: 0.9851\n",
            "Epoch 39/60\n",
            "13/27 [=============>................] - ETA: 0s - loss: 0.0027 - accuracy: 1.0000\n",
            "Epoch 39: saving model to /content/drive/MyDrive/Ironhack/Bootcamp/Deep_Learning_Lab/model.hdf5\n",
            "27/27 [==============================] - 0s 8ms/step - loss: 0.0029 - accuracy: 1.0000 - val_loss: 0.0228 - val_accuracy: 0.9925\n",
            "Epoch 40/60\n",
            "17/27 [=================>............] - ETA: 0s - loss: 0.0027 - accuracy: 1.0000\n",
            "Epoch 40: saving model to /content/drive/MyDrive/Ironhack/Bootcamp/Deep_Learning_Lab/model.hdf5\n",
            "27/27 [==============================] - 0s 7ms/step - loss: 0.0027 - accuracy: 1.0000 - val_loss: 0.0230 - val_accuracy: 0.9851\n",
            "Epoch 41/60\n",
            "13/27 [=============>................] - ETA: 0s - loss: 0.0022 - accuracy: 1.0000\n",
            "Epoch 41: saving model to /content/drive/MyDrive/Ironhack/Bootcamp/Deep_Learning_Lab/model.hdf5\n",
            "27/27 [==============================] - 0s 8ms/step - loss: 0.0025 - accuracy: 1.0000 - val_loss: 0.0205 - val_accuracy: 0.9925\n",
            "Epoch 42/60\n",
            "17/27 [=================>............] - ETA: 0s - loss: 0.0025 - accuracy: 1.0000\n",
            "Epoch 42: saving model to /content/drive/MyDrive/Ironhack/Bootcamp/Deep_Learning_Lab/model.hdf5\n",
            "27/27 [==============================] - 0s 9ms/step - loss: 0.0024 - accuracy: 1.0000 - val_loss: 0.0237 - val_accuracy: 0.9851\n",
            "Epoch 43/60\n",
            "18/27 [===================>..........] - ETA: 0s - loss: 0.0023 - accuracy: 1.0000\n",
            "Epoch 43: saving model to /content/drive/MyDrive/Ironhack/Bootcamp/Deep_Learning_Lab/model.hdf5\n",
            "27/27 [==============================] - 0s 9ms/step - loss: 0.0022 - accuracy: 1.0000 - val_loss: 0.0228 - val_accuracy: 0.9851\n",
            "Epoch 44/60\n",
            "26/27 [===========================>..] - ETA: 0s - loss: 0.0020 - accuracy: 1.0000\n",
            "Epoch 44: saving model to /content/drive/MyDrive/Ironhack/Bootcamp/Deep_Learning_Lab/model.hdf5\n",
            "27/27 [==============================] - 0s 9ms/step - loss: 0.0020 - accuracy: 1.0000 - val_loss: 0.0201 - val_accuracy: 0.9925\n",
            "Epoch 45/60\n",
            "13/27 [=============>................] - ETA: 0s - loss: 0.0018 - accuracy: 1.0000\n",
            "Epoch 45: saving model to /content/drive/MyDrive/Ironhack/Bootcamp/Deep_Learning_Lab/model.hdf5\n",
            "27/27 [==============================] - 0s 8ms/step - loss: 0.0018 - accuracy: 1.0000 - val_loss: 0.0223 - val_accuracy: 0.9851\n",
            "Epoch 46/60\n",
            "15/27 [===============>..............] - ETA: 0s - loss: 0.0016 - accuracy: 1.0000\n",
            "Epoch 46: saving model to /content/drive/MyDrive/Ironhack/Bootcamp/Deep_Learning_Lab/model.hdf5\n",
            "27/27 [==============================] - 0s 8ms/step - loss: 0.0017 - accuracy: 1.0000 - val_loss: 0.0194 - val_accuracy: 0.9925\n",
            "Epoch 47/60\n",
            "27/27 [==============================] - ETA: 0s - loss: 0.0017 - accuracy: 1.0000\n",
            "Epoch 47: saving model to /content/drive/MyDrive/Ironhack/Bootcamp/Deep_Learning_Lab/model.hdf5\n",
            "27/27 [==============================] - 0s 9ms/step - loss: 0.0017 - accuracy: 1.0000 - val_loss: 0.0211 - val_accuracy: 0.9851\n",
            "Epoch 48/60\n",
            "27/27 [==============================] - ETA: 0s - loss: 0.0016 - accuracy: 1.0000\n",
            "Epoch 48: saving model to /content/drive/MyDrive/Ironhack/Bootcamp/Deep_Learning_Lab/model.hdf5\n",
            "27/27 [==============================] - 0s 9ms/step - loss: 0.0016 - accuracy: 1.0000 - val_loss: 0.0217 - val_accuracy: 0.9851\n",
            "Epoch 49/60\n",
            "15/27 [===============>..............] - ETA: 0s - loss: 0.0014 - accuracy: 1.0000    \n",
            "Epoch 49: saving model to /content/drive/MyDrive/Ironhack/Bootcamp/Deep_Learning_Lab/model.hdf5\n",
            "27/27 [==============================] - 0s 9ms/step - loss: 0.0014 - accuracy: 1.0000 - val_loss: 0.0192 - val_accuracy: 0.9925\n",
            "Epoch 50/60\n",
            "17/27 [=================>............] - ETA: 0s - loss: 0.0013 - accuracy: 1.0000\n",
            "Epoch 50: saving model to /content/drive/MyDrive/Ironhack/Bootcamp/Deep_Learning_Lab/model.hdf5\n",
            "27/27 [==============================] - 0s 8ms/step - loss: 0.0014 - accuracy: 1.0000 - val_loss: 0.0196 - val_accuracy: 0.9851\n",
            "Epoch 51/60\n",
            "16/27 [================>.............] - ETA: 0s - loss: 0.0012 - accuracy: 1.0000    \n",
            "Epoch 51: saving model to /content/drive/MyDrive/Ironhack/Bootcamp/Deep_Learning_Lab/model.hdf5\n",
            "27/27 [==============================] - 0s 8ms/step - loss: 0.0013 - accuracy: 1.0000 - val_loss: 0.0200 - val_accuracy: 0.9851\n",
            "Epoch 52/60\n",
            "22/27 [=======================>......] - ETA: 0s - loss: 0.0013 - accuracy: 1.0000\n",
            "Epoch 52: saving model to /content/drive/MyDrive/Ironhack/Bootcamp/Deep_Learning_Lab/model.hdf5\n",
            "27/27 [==============================] - 0s 6ms/step - loss: 0.0012 - accuracy: 1.0000 - val_loss: 0.0177 - val_accuracy: 0.9925\n",
            "Epoch 53/60\n",
            "26/27 [===========================>..] - ETA: 0s - loss: 0.0012 - accuracy: 1.0000    \n",
            "Epoch 53: saving model to /content/drive/MyDrive/Ironhack/Bootcamp/Deep_Learning_Lab/model.hdf5\n",
            "27/27 [==============================] - 0s 7ms/step - loss: 0.0011 - accuracy: 1.0000 - val_loss: 0.0212 - val_accuracy: 0.9851\n",
            "Epoch 54/60\n",
            "14/27 [==============>...............] - ETA: 0s - loss: 0.0012 - accuracy: 1.0000\n",
            "Epoch 54: saving model to /content/drive/MyDrive/Ironhack/Bootcamp/Deep_Learning_Lab/model.hdf5\n",
            "27/27 [==============================] - 0s 7ms/step - loss: 0.0012 - accuracy: 1.0000 - val_loss: 0.0197 - val_accuracy: 0.9851\n",
            "Epoch 55/60\n",
            "23/27 [========================>.....] - ETA: 0s - loss: 9.4660e-04 - accuracy: 1.0000\n",
            "Epoch 55: saving model to /content/drive/MyDrive/Ironhack/Bootcamp/Deep_Learning_Lab/model.hdf5\n",
            "27/27 [==============================] - 0s 6ms/step - loss: 0.0010 - accuracy: 1.0000 - val_loss: 0.0175 - val_accuracy: 0.9925\n",
            "Epoch 56/60\n",
            "24/27 [=========================>....] - ETA: 0s - loss: 0.0011 - accuracy: 1.0000    \n",
            "Epoch 56: saving model to /content/drive/MyDrive/Ironhack/Bootcamp/Deep_Learning_Lab/model.hdf5\n",
            "27/27 [==============================] - 0s 6ms/step - loss: 0.0010 - accuracy: 1.0000 - val_loss: 0.0182 - val_accuracy: 0.9925\n",
            "Epoch 57/60\n",
            "22/27 [=======================>......] - ETA: 0s - loss: 9.5744e-04 - accuracy: 1.0000\n",
            "Epoch 57: saving model to /content/drive/MyDrive/Ironhack/Bootcamp/Deep_Learning_Lab/model.hdf5\n",
            "27/27 [==============================] - 0s 6ms/step - loss: 9.6444e-04 - accuracy: 1.0000 - val_loss: 0.0178 - val_accuracy: 0.9925\n",
            "Epoch 58/60\n",
            "24/27 [=========================>....] - ETA: 0s - loss: 9.0305e-04 - accuracy: 1.0000\n",
            "Epoch 58: saving model to /content/drive/MyDrive/Ironhack/Bootcamp/Deep_Learning_Lab/model.hdf5\n",
            "27/27 [==============================] - 0s 6ms/step - loss: 9.2542e-04 - accuracy: 1.0000 - val_loss: 0.0181 - val_accuracy: 0.9925\n",
            "Epoch 59/60\n",
            "22/27 [=======================>......] - ETA: 0s - loss: 8.6756e-04 - accuracy: 1.0000\n",
            "Epoch 59: saving model to /content/drive/MyDrive/Ironhack/Bootcamp/Deep_Learning_Lab/model.hdf5\n",
            "27/27 [==============================] - 0s 6ms/step - loss: 8.6134e-04 - accuracy: 1.0000 - val_loss: 0.0177 - val_accuracy: 0.9925\n",
            "Epoch 60/60\n",
            "22/27 [=======================>......] - ETA: 0s - loss: 8.4113e-04 - accuracy: 1.0000\n",
            "Epoch 60: saving model to /content/drive/MyDrive/Ironhack/Bootcamp/Deep_Learning_Lab/model.hdf5\n",
            "27/27 [==============================] - 0s 7ms/step - loss: 8.2928e-04 - accuracy: 1.0000 - val_loss: 0.0175 - val_accuracy: 0.9925\n"
          ]
        }
      ]
    },
    {
      "cell_type": "markdown",
      "source": [
        "**Plotting the metrics through epochs**"
      ],
      "metadata": {
        "id": "c15sSOx6BCy2"
      }
    },
    {
      "cell_type": "code",
      "source": [
        "plot_metrics(history2,'loss','accuracy')"
      ],
      "metadata": {
        "colab": {
          "base_uri": "https://localhost:8080/",
          "height": 334
        },
        "id": "hRy73tcR-bIu",
        "outputId": "21066833-8836-4526-b570-e47fd51271f8"
      },
      "execution_count": 28,
      "outputs": [
        {
          "output_type": "display_data",
          "data": {
            "text/plain": [
              "<Figure size 1080x360 with 2 Axes>"
            ],
            "image/png": "[encoded data removed]"
          },
          "metadata": {
            "needs_background": "light"
          }
        }
      ]
    },
    {
      "cell_type": "markdown",
      "source": [
        "**Measuring the performance after applying a new layer**"
      ],
      "metadata": {
        "id": "iwgYwByp_e5W"
      }
    },
    {
      "cell_type": "code",
      "source": [
        "y_pred_tr2 = np.argmax(model2.predict(X_train), axis=1).reshape(-1,1)\n",
        "y_pred_te2 = np.argmax(model2.predict(X_test), axis=1).reshape(-1,1)\n",
        "\n",
        "model_performance_class(y_train, y_pred_tr2, y_test, y_pred_te2)"
      ],
      "metadata": {
        "colab": {
          "base_uri": "https://localhost:8080/"
        },
        "id": "hQC_KkS1-dax",
        "outputId": "babe4242-b3f2-4131-d82c-9ea4c24d9302"
      },
      "execution_count": 29,
      "outputs": [
        {
          "output_type": "stream",
          "name": "stdout",
          "text": [
            "21/21 [==============================] - 0s 2ms/step\n",
            "9/9 [==============================] - 0s 3ms/step\n",
            "Results obtained for the TRAIN SET\n",
            "==================================\n",
            "The Cohen's Kappa is: 1.00\n",
            "              precision    recall  f1-score   support\n",
            "\n",
            "       False       1.00      1.00      1.00       236\n",
            "        True       1.00      1.00      1.00       434\n",
            "\n",
            "    accuracy                           1.00       670\n",
            "   macro avg       1.00      1.00      1.00       670\n",
            "weighted avg       1.00      1.00      1.00       670\n",
            "\n",
            "==================================\n",
            "Results obtained for the TEST SET\n",
            "The Cohen's Kappa is: 0.98\n",
            "              precision    recall  f1-score   support\n",
            "\n",
            "       False       0.99      0.99      0.99        96\n",
            "        True       0.99      0.99      0.99       192\n",
            "\n",
            "    accuracy                           0.99       288\n",
            "   macro avg       0.99      0.99      0.99       288\n",
            "weighted avg       0.99      0.99      0.99       288\n",
            "\n"
          ]
        }
      ]
    },
    {
      "cell_type": "markdown",
      "source": [
        "### Using optimizers"
      ],
      "metadata": {
        "id": "zp_tPfV5DVX5"
      }
    },
    {
      "cell_type": "markdown",
      "source": [
        "**Creating a new the model with optimizers and decreasing the learning rate**"
      ],
      "metadata": {
        "id": "h4vXxvTGGPb_"
      }
    },
    {
      "cell_type": "code",
      "source": [
        "model3 = keras.Sequential()\n",
        "#hidden layers\n",
        "model3.add(Dense(units = 64,input_dim = X_train.shape[1],activation='relu'))\n",
        "model3.add(Dense(units = 16,activation='relu'))\n",
        "model3.add(Dense(units = 8,activation='relu'))\n",
        "#final layer\n",
        "model3.add(Dense(units = 2, activation='softmax'))\n",
        "\n",
        "special_Adam = tf.keras.optimizers.Adam(\n",
        "    learning_rate=0.0005,\n",
        "    beta_1=0.9,\n",
        "    beta_2=0.999,\n",
        "    epsilon=1e-07,\n",
        "    amsgrad=False,\n",
        "    weight_decay=None,\n",
        "    clipnorm=None,\n",
        "    clipvalue=None,\n",
        "    global_clipnorm=None,\n",
        "    use_ema=False,\n",
        "    ema_momentum=0.99,\n",
        "    ema_overwrite_frequency=None,\n",
        "    jit_compile=True)\n",
        "\n",
        "model3.compile(optimizer=special_Adam,\n",
        "              loss='sparse_categorical_crossentropy',\n",
        "              metrics='accuracy')"
      ],
      "metadata": {
        "id": "LynQ6PZADT7v"
      },
      "execution_count": 30,
      "outputs": []
    },
    {
      "cell_type": "markdown",
      "source": [
        "**Fitting the model**"
      ],
      "metadata": {
        "id": "zCIjk_HRGLPX"
      }
    },
    {
      "cell_type": "code",
      "source": [
        "history3 = model3.fit(X_train, y_train, epochs=60, validation_split=0.20, batch_size=20, callbacks=[early_stopping, checkpoint])"
      ],
      "metadata": {
        "colab": {
          "base_uri": "https://localhost:8080/"
        },
        "id": "t7PR9C3FGLlq",
        "outputId": "a8fb3d54-ae1f-4763-f2db-3844f6f68e9d"
      },
      "execution_count": 31,
      "outputs": [
        {
          "output_type": "stream",
          "name": "stdout",
          "text": [
            "Epoch 1/60\n",
            "16/27 [================>.............] - ETA: 0s - loss: 0.7427 - accuracy: 0.3938 \n",
            "Epoch 1: saving model to /content/drive/MyDrive/Ironhack/Bootcamp/Deep_Learning_Lab/model.hdf5\n",
            "27/27 [==============================] - 2s 43ms/step - loss: 0.7320 - accuracy: 0.3899 - val_loss: 0.6980 - val_accuracy: 0.4776\n",
            "Epoch 2/60\n",
            "24/27 [=========================>....] - ETA: 0s - loss: 0.6754 - accuracy: 0.6313\n",
            "Epoch 2: saving model to /content/drive/MyDrive/Ironhack/Bootcamp/Deep_Learning_Lab/model.hdf5\n",
            "27/27 [==============================] - 0s 6ms/step - loss: 0.6729 - accuracy: 0.6343 - val_loss: 0.6604 - val_accuracy: 0.6642\n",
            "Epoch 3/60\n",
            "23/27 [========================>.....] - ETA: 0s - loss: 0.6405 - accuracy: 0.7413\n",
            "Epoch 3: saving model to /content/drive/MyDrive/Ironhack/Bootcamp/Deep_Learning_Lab/model.hdf5\n",
            "27/27 [==============================] - 0s 6ms/step - loss: 0.6392 - accuracy: 0.7332 - val_loss: 0.6276 - val_accuracy: 0.6716\n",
            "Epoch 4/60\n",
            "20/27 [=====================>........] - ETA: 0s - loss: 0.5920 - accuracy: 0.7550\n",
            "Epoch 4: saving model to /content/drive/MyDrive/Ironhack/Bootcamp/Deep_Learning_Lab/model.hdf5\n",
            "27/27 [==============================] - 0s 6ms/step - loss: 0.5938 - accuracy: 0.7463 - val_loss: 0.5960 - val_accuracy: 0.6940\n",
            "Epoch 5/60\n",
            "24/27 [=========================>....] - ETA: 0s - loss: 0.5589 - accuracy: 0.7500\n",
            "Epoch 5: saving model to /content/drive/MyDrive/Ironhack/Bootcamp/Deep_Learning_Lab/model.hdf5\n",
            "27/27 [==============================] - 0s 6ms/step - loss: 0.5548 - accuracy: 0.7556 - val_loss: 0.5721 - val_accuracy: 0.6866\n",
            "Epoch 6/60\n",
            "27/27 [==============================] - ETA: 0s - loss: 0.5238 - accuracy: 0.7687\n",
            "Epoch 6: saving model to /content/drive/MyDrive/Ironhack/Bootcamp/Deep_Learning_Lab/model.hdf5\n",
            "27/27 [==============================] - 0s 6ms/step - loss: 0.5238 - accuracy: 0.7687 - val_loss: 0.5570 - val_accuracy: 0.6866\n",
            "Epoch 7/60\n",
            "26/27 [===========================>..] - ETA: 0s - loss: 0.4997 - accuracy: 0.7750\n",
            "Epoch 7: saving model to /content/drive/MyDrive/Ironhack/Bootcamp/Deep_Learning_Lab/model.hdf5\n",
            "27/27 [==============================] - 0s 6ms/step - loss: 0.4986 - accuracy: 0.7780 - val_loss: 0.5419 - val_accuracy: 0.6866\n",
            "Epoch 8/60\n",
            "26/27 [===========================>..] - ETA: 0s - loss: 0.4736 - accuracy: 0.7942\n",
            "Epoch 8: saving model to /content/drive/MyDrive/Ironhack/Bootcamp/Deep_Learning_Lab/model.hdf5\n",
            "27/27 [==============================] - 0s 6ms/step - loss: 0.4753 - accuracy: 0.7910 - val_loss: 0.5283 - val_accuracy: 0.7090\n",
            "Epoch 9/60\n",
            "26/27 [===========================>..] - ETA: 0s - loss: 0.4519 - accuracy: 0.8135\n",
            "Epoch 9: saving model to /content/drive/MyDrive/Ironhack/Bootcamp/Deep_Learning_Lab/model.hdf5\n",
            "27/27 [==============================] - 0s 6ms/step - loss: 0.4519 - accuracy: 0.8097 - val_loss: 0.5080 - val_accuracy: 0.7090\n",
            "Epoch 10/60\n",
            "24/27 [=========================>....] - ETA: 0s - loss: 0.4387 - accuracy: 0.8292\n",
            "Epoch 10: saving model to /content/drive/MyDrive/Ironhack/Bootcamp/Deep_Learning_Lab/model.hdf5\n",
            "27/27 [==============================] - 0s 6ms/step - loss: 0.4298 - accuracy: 0.8340 - val_loss: 0.4903 - val_accuracy: 0.7463\n",
            "Epoch 11/60\n",
            "25/27 [==========================>...] - ETA: 0s - loss: 0.4073 - accuracy: 0.8320\n",
            "Epoch 11: saving model to /content/drive/MyDrive/Ironhack/Bootcamp/Deep_Learning_Lab/model.hdf5\n",
            "27/27 [==============================] - 0s 6ms/step - loss: 0.4085 - accuracy: 0.8377 - val_loss: 0.4704 - val_accuracy: 0.7612\n",
            "Epoch 12/60\n",
            "26/27 [===========================>..] - ETA: 0s - loss: 0.3882 - accuracy: 0.8519\n",
            "Epoch 12: saving model to /content/drive/MyDrive/Ironhack/Bootcamp/Deep_Learning_Lab/model.hdf5\n",
            "27/27 [==============================] - 0s 6ms/step - loss: 0.3840 - accuracy: 0.8545 - val_loss: 0.4488 - val_accuracy: 0.7761\n",
            "Epoch 13/60\n",
            "25/27 [==========================>...] - ETA: 0s - loss: 0.3553 - accuracy: 0.8820\n",
            "Epoch 13: saving model to /content/drive/MyDrive/Ironhack/Bootcamp/Deep_Learning_Lab/model.hdf5\n",
            "27/27 [==============================] - 0s 7ms/step - loss: 0.3570 - accuracy: 0.8769 - val_loss: 0.4224 - val_accuracy: 0.7985\n",
            "Epoch 14/60\n",
            "27/27 [==============================] - ETA: 0s - loss: 0.3313 - accuracy: 0.8937\n",
            "Epoch 14: saving model to /content/drive/MyDrive/Ironhack/Bootcamp/Deep_Learning_Lab/model.hdf5\n",
            "27/27 [==============================] - 0s 5ms/step - loss: 0.3313 - accuracy: 0.8937 - val_loss: 0.3956 - val_accuracy: 0.8284\n",
            "Epoch 15/60\n",
            "25/27 [==========================>...] - ETA: 0s - loss: 0.3051 - accuracy: 0.9040\n",
            "Epoch 15: saving model to /content/drive/MyDrive/Ironhack/Bootcamp/Deep_Learning_Lab/model.hdf5\n",
            "27/27 [==============================] - 0s 6ms/step - loss: 0.3037 - accuracy: 0.9049 - val_loss: 0.3713 - val_accuracy: 0.8507\n",
            "Epoch 16/60\n",
            "20/27 [=====================>........] - ETA: 0s - loss: 0.2765 - accuracy: 0.9200\n",
            "Epoch 16: saving model to /content/drive/MyDrive/Ironhack/Bootcamp/Deep_Learning_Lab/model.hdf5\n",
            "27/27 [==============================] - 0s 6ms/step - loss: 0.2764 - accuracy: 0.9198 - val_loss: 0.3373 - val_accuracy: 0.8806\n",
            "Epoch 17/60\n",
            "25/27 [==========================>...] - ETA: 0s - loss: 0.2514 - accuracy: 0.9400\n",
            "Epoch 17: saving model to /content/drive/MyDrive/Ironhack/Bootcamp/Deep_Learning_Lab/model.hdf5\n",
            "27/27 [==============================] - 0s 6ms/step - loss: 0.2510 - accuracy: 0.9403 - val_loss: 0.3092 - val_accuracy: 0.9104\n",
            "Epoch 18/60\n",
            "23/27 [========================>.....] - ETA: 0s - loss: 0.2303 - accuracy: 0.9565\n",
            "Epoch 18: saving model to /content/drive/MyDrive/Ironhack/Bootcamp/Deep_Learning_Lab/model.hdf5\n",
            "27/27 [==============================] - 0s 6ms/step - loss: 0.2256 - accuracy: 0.9608 - val_loss: 0.2848 - val_accuracy: 0.9179\n",
            "Epoch 19/60\n",
            "25/27 [==========================>...] - ETA: 0s - loss: 0.2106 - accuracy: 0.9580\n",
            "Epoch 19: saving model to /content/drive/MyDrive/Ironhack/Bootcamp/Deep_Learning_Lab/model.hdf5\n",
            "27/27 [==============================] - 0s 6ms/step - loss: 0.2056 - accuracy: 0.9608 - val_loss: 0.2558 - val_accuracy: 0.9104\n",
            "Epoch 20/60\n",
            "23/27 [========================>.....] - ETA: 0s - loss: 0.1828 - accuracy: 0.9674\n",
            "Epoch 20: saving model to /content/drive/MyDrive/Ironhack/Bootcamp/Deep_Learning_Lab/model.hdf5\n",
            "27/27 [==============================] - 0s 6ms/step - loss: 0.1792 - accuracy: 0.9683 - val_loss: 0.2299 - val_accuracy: 0.9701\n",
            "Epoch 21/60\n",
            "25/27 [==========================>...] - ETA: 0s - loss: 0.1628 - accuracy: 0.9760\n",
            "Epoch 21: saving model to /content/drive/MyDrive/Ironhack/Bootcamp/Deep_Learning_Lab/model.hdf5\n",
            "27/27 [==============================] - 0s 5ms/step - loss: 0.1614 - accuracy: 0.9776 - val_loss: 0.2109 - val_accuracy: 0.9701\n",
            "Epoch 22/60\n",
            "23/27 [========================>.....] - ETA: 0s - loss: 0.1463 - accuracy: 0.9783\n",
            "Epoch 22: saving model to /content/drive/MyDrive/Ironhack/Bootcamp/Deep_Learning_Lab/model.hdf5\n",
            "27/27 [==============================] - 0s 6ms/step - loss: 0.1418 - accuracy: 0.9795 - val_loss: 0.1823 - val_accuracy: 0.9776\n",
            "Epoch 23/60\n",
            "22/27 [=======================>......] - ETA: 0s - loss: 0.1314 - accuracy: 0.9750\n",
            "Epoch 23: saving model to /content/drive/MyDrive/Ironhack/Bootcamp/Deep_Learning_Lab/model.hdf5\n",
            "27/27 [==============================] - 0s 6ms/step - loss: 0.1249 - accuracy: 0.9795 - val_loss: 0.1620 - val_accuracy: 0.9776\n",
            "Epoch 24/60\n",
            "24/27 [=========================>....] - ETA: 0s - loss: 0.1125 - accuracy: 0.9792\n",
            "Epoch 24: saving model to /content/drive/MyDrive/Ironhack/Bootcamp/Deep_Learning_Lab/model.hdf5\n",
            "27/27 [==============================] - 0s 6ms/step - loss: 0.1095 - accuracy: 0.9813 - val_loss: 0.1497 - val_accuracy: 0.9851\n",
            "Epoch 25/60\n",
            "25/27 [==========================>...] - ETA: 0s - loss: 0.1033 - accuracy: 0.9760\n",
            "Epoch 25: saving model to /content/drive/MyDrive/Ironhack/Bootcamp/Deep_Learning_Lab/model.hdf5\n",
            "27/27 [==============================] - 0s 6ms/step - loss: 0.1040 - accuracy: 0.9776 - val_loss: 0.1295 - val_accuracy: 0.9851\n",
            "Epoch 26/60\n",
            "24/27 [=========================>....] - ETA: 0s - loss: 0.0894 - accuracy: 0.9833\n",
            "Epoch 26: saving model to /content/drive/MyDrive/Ironhack/Bootcamp/Deep_Learning_Lab/model.hdf5\n",
            "27/27 [==============================] - 0s 6ms/step - loss: 0.0879 - accuracy: 0.9832 - val_loss: 0.1270 - val_accuracy: 0.9925\n",
            "Epoch 27/60\n",
            "25/27 [==========================>...] - ETA: 0s - loss: 0.0783 - accuracy: 0.9880\n",
            "Epoch 27: saving model to /content/drive/MyDrive/Ironhack/Bootcamp/Deep_Learning_Lab/model.hdf5\n",
            "27/27 [==============================] - 0s 6ms/step - loss: 0.0785 - accuracy: 0.9888 - val_loss: 0.1085 - val_accuracy: 0.9851\n",
            "Epoch 28/60\n",
            "24/27 [=========================>....] - ETA: 0s - loss: 0.0689 - accuracy: 0.9917\n",
            "Epoch 28: saving model to /content/drive/MyDrive/Ironhack/Bootcamp/Deep_Learning_Lab/model.hdf5\n",
            "27/27 [==============================] - 0s 6ms/step - loss: 0.0693 - accuracy: 0.9925 - val_loss: 0.1027 - val_accuracy: 0.9851\n",
            "Epoch 29/60\n",
            "25/27 [==========================>...] - ETA: 0s - loss: 0.0648 - accuracy: 0.9920\n",
            "Epoch 29: saving model to /content/drive/MyDrive/Ironhack/Bootcamp/Deep_Learning_Lab/model.hdf5\n",
            "27/27 [==============================] - 0s 6ms/step - loss: 0.0641 - accuracy: 0.9925 - val_loss: 0.0910 - val_accuracy: 0.9851\n",
            "Epoch 30/60\n",
            "25/27 [==========================>...] - ETA: 0s - loss: 0.0568 - accuracy: 0.9940\n",
            "Epoch 30: saving model to /content/drive/MyDrive/Ironhack/Bootcamp/Deep_Learning_Lab/model.hdf5\n",
            "27/27 [==============================] - 0s 6ms/step - loss: 0.0557 - accuracy: 0.9944 - val_loss: 0.0851 - val_accuracy: 0.9851\n",
            "Epoch 31/60\n",
            "25/27 [==========================>...] - ETA: 0s - loss: 0.0512 - accuracy: 0.9980\n",
            "Epoch 31: saving model to /content/drive/MyDrive/Ironhack/Bootcamp/Deep_Learning_Lab/model.hdf5\n",
            "27/27 [==============================] - 0s 6ms/step - loss: 0.0508 - accuracy: 0.9981 - val_loss: 0.0813 - val_accuracy: 0.9851\n",
            "Epoch 32/60\n",
            "22/27 [=======================>......] - ETA: 0s - loss: 0.0477 - accuracy: 0.9955\n",
            "Epoch 32: saving model to /content/drive/MyDrive/Ironhack/Bootcamp/Deep_Learning_Lab/model.hdf5\n",
            "27/27 [==============================] - 0s 6ms/step - loss: 0.0463 - accuracy: 0.9963 - val_loss: 0.0740 - val_accuracy: 0.9851\n",
            "Epoch 33/60\n",
            "26/27 [===========================>..] - ETA: 0s - loss: 0.0418 - accuracy: 0.9981\n",
            "Epoch 33: saving model to /content/drive/MyDrive/Ironhack/Bootcamp/Deep_Learning_Lab/model.hdf5\n",
            "27/27 [==============================] - 0s 6ms/step - loss: 0.0417 - accuracy: 0.9981 - val_loss: 0.0740 - val_accuracy: 0.9851\n",
            "Epoch 34/60\n",
            "22/27 [=======================>......] - ETA: 0s - loss: 0.0375 - accuracy: 0.9977\n",
            "Epoch 34: saving model to /content/drive/MyDrive/Ironhack/Bootcamp/Deep_Learning_Lab/model.hdf5\n",
            "27/27 [==============================] - 0s 7ms/step - loss: 0.0379 - accuracy: 0.9981 - val_loss: 0.0656 - val_accuracy: 0.9851\n",
            "Epoch 35/60\n",
            "25/27 [==========================>...] - ETA: 0s - loss: 0.0334 - accuracy: 1.0000\n",
            "Epoch 35: saving model to /content/drive/MyDrive/Ironhack/Bootcamp/Deep_Learning_Lab/model.hdf5\n",
            "27/27 [==============================] - 0s 6ms/step - loss: 0.0339 - accuracy: 1.0000 - val_loss: 0.0634 - val_accuracy: 0.9851\n",
            "Epoch 36/60\n",
            "26/27 [===========================>..] - ETA: 0s - loss: 0.0319 - accuracy: 0.9981\n",
            "Epoch 36: saving model to /content/drive/MyDrive/Ironhack/Bootcamp/Deep_Learning_Lab/model.hdf5\n",
            "27/27 [==============================] - 0s 6ms/step - loss: 0.0318 - accuracy: 0.9981 - val_loss: 0.0598 - val_accuracy: 0.9851\n",
            "Epoch 37/60\n",
            "23/27 [========================>.....] - ETA: 0s - loss: 0.0291 - accuracy: 1.0000\n",
            "Epoch 37: saving model to /content/drive/MyDrive/Ironhack/Bootcamp/Deep_Learning_Lab/model.hdf5\n",
            "27/27 [==============================] - 0s 6ms/step - loss: 0.0287 - accuracy: 1.0000 - val_loss: 0.0561 - val_accuracy: 0.9851\n",
            "Epoch 38/60\n",
            "24/27 [=========================>....] - ETA: 0s - loss: 0.0277 - accuracy: 1.0000\n",
            "Epoch 38: saving model to /content/drive/MyDrive/Ironhack/Bootcamp/Deep_Learning_Lab/model.hdf5\n",
            "27/27 [==============================] - 0s 6ms/step - loss: 0.0266 - accuracy: 1.0000 - val_loss: 0.0550 - val_accuracy: 0.9851\n",
            "Epoch 39/60\n",
            "23/27 [========================>.....] - ETA: 0s - loss: 0.0256 - accuracy: 1.0000\n",
            "Epoch 39: saving model to /content/drive/MyDrive/Ironhack/Bootcamp/Deep_Learning_Lab/model.hdf5\n",
            "27/27 [==============================] - 0s 6ms/step - loss: 0.0244 - accuracy: 1.0000 - val_loss: 0.0524 - val_accuracy: 0.9851\n",
            "Epoch 40/60\n",
            "19/27 [====================>.........] - ETA: 0s - loss: 0.0226 - accuracy: 1.0000\n",
            "Epoch 40: saving model to /content/drive/MyDrive/Ironhack/Bootcamp/Deep_Learning_Lab/model.hdf5\n",
            "27/27 [==============================] - 0s 6ms/step - loss: 0.0220 - accuracy: 1.0000 - val_loss: 0.0563 - val_accuracy: 0.9851\n",
            "Epoch 41/60\n",
            "24/27 [=========================>....] - ETA: 0s - loss: 0.0210 - accuracy: 1.0000\n",
            "Epoch 41: saving model to /content/drive/MyDrive/Ironhack/Bootcamp/Deep_Learning_Lab/model.hdf5\n",
            "27/27 [==============================] - 0s 6ms/step - loss: 0.0215 - accuracy: 1.0000 - val_loss: 0.0497 - val_accuracy: 0.9851\n",
            "Epoch 42/60\n",
            "24/27 [=========================>....] - ETA: 0s - loss: 0.0210 - accuracy: 1.0000\n",
            "Epoch 42: saving model to /content/drive/MyDrive/Ironhack/Bootcamp/Deep_Learning_Lab/model.hdf5\n",
            "27/27 [==============================] - 0s 6ms/step - loss: 0.0201 - accuracy: 1.0000 - val_loss: 0.0500 - val_accuracy: 0.9851\n",
            "Epoch 43/60\n",
            "23/27 [========================>.....] - ETA: 0s - loss: 0.0179 - accuracy: 1.0000\n",
            "Epoch 43: saving model to /content/drive/MyDrive/Ironhack/Bootcamp/Deep_Learning_Lab/model.hdf5\n",
            "27/27 [==============================] - 0s 6ms/step - loss: 0.0178 - accuracy: 1.0000 - val_loss: 0.0491 - val_accuracy: 0.9851\n",
            "Epoch 44/60\n",
            "23/27 [========================>.....] - ETA: 0s - loss: 0.0160 - accuracy: 1.0000\n",
            "Epoch 44: saving model to /content/drive/MyDrive/Ironhack/Bootcamp/Deep_Learning_Lab/model.hdf5\n",
            "27/27 [==============================] - 0s 6ms/step - loss: 0.0165 - accuracy: 1.0000 - val_loss: 0.0454 - val_accuracy: 0.9851\n",
            "Epoch 45/60\n",
            "21/27 [======================>.......] - ETA: 0s - loss: 0.0148 - accuracy: 1.0000\n",
            "Epoch 45: saving model to /content/drive/MyDrive/Ironhack/Bootcamp/Deep_Learning_Lab/model.hdf5\n",
            "27/27 [==============================] - 0s 6ms/step - loss: 0.0156 - accuracy: 1.0000 - val_loss: 0.0420 - val_accuracy: 0.9851\n",
            "Epoch 46/60\n",
            "22/27 [=======================>......] - ETA: 0s - loss: 0.0152 - accuracy: 1.0000\n",
            "Epoch 46: saving model to /content/drive/MyDrive/Ironhack/Bootcamp/Deep_Learning_Lab/model.hdf5\n",
            "27/27 [==============================] - 0s 7ms/step - loss: 0.0149 - accuracy: 1.0000 - val_loss: 0.0456 - val_accuracy: 0.9851\n",
            "Epoch 47/60\n",
            "25/27 [==========================>...] - ETA: 0s - loss: 0.0134 - accuracy: 1.0000\n",
            "Epoch 47: saving model to /content/drive/MyDrive/Ironhack/Bootcamp/Deep_Learning_Lab/model.hdf5\n",
            "27/27 [==============================] - 0s 6ms/step - loss: 0.0137 - accuracy: 1.0000 - val_loss: 0.0435 - val_accuracy: 0.9851\n",
            "Epoch 48/60\n",
            "24/27 [=========================>....] - ETA: 0s - loss: 0.0126 - accuracy: 1.0000\n",
            "Epoch 48: saving model to /content/drive/MyDrive/Ironhack/Bootcamp/Deep_Learning_Lab/model.hdf5\n",
            "27/27 [==============================] - 0s 6ms/step - loss: 0.0125 - accuracy: 1.0000 - val_loss: 0.0444 - val_accuracy: 0.9851\n",
            "Epoch 49/60\n",
            "25/27 [==========================>...] - ETA: 0s - loss: 0.0120 - accuracy: 1.0000\n",
            "Epoch 49: saving model to /content/drive/MyDrive/Ironhack/Bootcamp/Deep_Learning_Lab/model.hdf5\n",
            "27/27 [==============================] - 0s 6ms/step - loss: 0.0119 - accuracy: 1.0000 - val_loss: 0.0451 - val_accuracy: 0.9851\n",
            "Epoch 50/60\n",
            "25/27 [==========================>...] - ETA: 0s - loss: 0.0115 - accuracy: 1.0000\n",
            "Epoch 50: saving model to /content/drive/MyDrive/Ironhack/Bootcamp/Deep_Learning_Lab/model.hdf5\n",
            "27/27 [==============================] - 0s 6ms/step - loss: 0.0111 - accuracy: 1.0000 - val_loss: 0.0407 - val_accuracy: 0.9851\n",
            "Epoch 51/60\n",
            "24/27 [=========================>....] - ETA: 0s - loss: 0.0101 - accuracy: 1.0000\n",
            "Epoch 51: saving model to /content/drive/MyDrive/Ironhack/Bootcamp/Deep_Learning_Lab/model.hdf5\n",
            "27/27 [==============================] - 0s 7ms/step - loss: 0.0103 - accuracy: 1.0000 - val_loss: 0.0425 - val_accuracy: 0.9851\n",
            "Epoch 52/60\n",
            "22/27 [=======================>......] - ETA: 0s - loss: 0.0097 - accuracy: 1.0000\n",
            "Epoch 52: saving model to /content/drive/MyDrive/Ironhack/Bootcamp/Deep_Learning_Lab/model.hdf5\n",
            "27/27 [==============================] - 0s 8ms/step - loss: 0.0099 - accuracy: 1.0000 - val_loss: 0.0395 - val_accuracy: 0.9851\n",
            "Epoch 53/60\n",
            "26/27 [===========================>..] - ETA: 0s - loss: 0.0091 - accuracy: 1.0000\n",
            "Epoch 53: saving model to /content/drive/MyDrive/Ironhack/Bootcamp/Deep_Learning_Lab/model.hdf5\n",
            "27/27 [==============================] - 0s 6ms/step - loss: 0.0091 - accuracy: 1.0000 - val_loss: 0.0394 - val_accuracy: 0.9851\n",
            "Epoch 54/60\n",
            "23/27 [========================>.....] - ETA: 0s - loss: 0.0092 - accuracy: 1.0000\n",
            "Epoch 54: saving model to /content/drive/MyDrive/Ironhack/Bootcamp/Deep_Learning_Lab/model.hdf5\n",
            "27/27 [==============================] - 0s 6ms/step - loss: 0.0089 - accuracy: 1.0000 - val_loss: 0.0374 - val_accuracy: 0.9851\n",
            "Epoch 55/60\n",
            "22/27 [=======================>......] - ETA: 0s - loss: 0.0080 - accuracy: 1.0000\n",
            "Epoch 55: saving model to /content/drive/MyDrive/Ironhack/Bootcamp/Deep_Learning_Lab/model.hdf5\n",
            "27/27 [==============================] - 0s 7ms/step - loss: 0.0082 - accuracy: 1.0000 - val_loss: 0.0354 - val_accuracy: 0.9851\n",
            "Epoch 56/60\n",
            "26/27 [===========================>..] - ETA: 0s - loss: 0.0078 - accuracy: 1.0000\n",
            "Epoch 56: saving model to /content/drive/MyDrive/Ironhack/Bootcamp/Deep_Learning_Lab/model.hdf5\n",
            "27/27 [==============================] - 0s 6ms/step - loss: 0.0079 - accuracy: 1.0000 - val_loss: 0.0369 - val_accuracy: 0.9851\n",
            "Epoch 57/60\n",
            "22/27 [=======================>......] - ETA: 0s - loss: 0.0073 - accuracy: 1.0000\n",
            "Epoch 57: saving model to /content/drive/MyDrive/Ironhack/Bootcamp/Deep_Learning_Lab/model.hdf5\n",
            "27/27 [==============================] - 0s 7ms/step - loss: 0.0074 - accuracy: 1.0000 - val_loss: 0.0391 - val_accuracy: 0.9851\n",
            "Epoch 58/60\n",
            "24/27 [=========================>....] - ETA: 0s - loss: 0.0069 - accuracy: 1.0000\n",
            "Epoch 58: saving model to /content/drive/MyDrive/Ironhack/Bootcamp/Deep_Learning_Lab/model.hdf5\n",
            "27/27 [==============================] - 0s 8ms/step - loss: 0.0068 - accuracy: 1.0000 - val_loss: 0.0400 - val_accuracy: 0.9851\n",
            "Epoch 59/60\n",
            "26/27 [===========================>..] - ETA: 0s - loss: 0.0065 - accuracy: 1.0000\n",
            "Epoch 59: saving model to /content/drive/MyDrive/Ironhack/Bootcamp/Deep_Learning_Lab/model.hdf5\n",
            "27/27 [==============================] - 0s 10ms/step - loss: 0.0064 - accuracy: 1.0000 - val_loss: 0.0374 - val_accuracy: 0.9851\n",
            "Epoch 60/60\n",
            "24/27 [=========================>....] - ETA: 0s - loss: 0.0060 - accuracy: 1.0000\n",
            "Epoch 60: saving model to /content/drive/MyDrive/Ironhack/Bootcamp/Deep_Learning_Lab/model.hdf5\n",
            "27/27 [==============================] - 0s 9ms/step - loss: 0.0061 - accuracy: 1.0000 - val_loss: 0.0363 - val_accuracy: 0.9851\n"
          ]
        }
      ]
    },
    {
      "cell_type": "markdown",
      "source": [
        "**Plotting the metrics through epochs**"
      ],
      "metadata": {
        "id": "uF5eCNWFGL5Z"
      }
    },
    {
      "cell_type": "code",
      "source": [
        "plot_metrics(history3,'loss','accuracy')"
      ],
      "metadata": {
        "colab": {
          "base_uri": "https://localhost:8080/",
          "height": 334
        },
        "id": "xq-hcGn_GMFV",
        "outputId": "0b5a8a2e-7128-4f39-d406-6d122a2ccac1"
      },
      "execution_count": 32,
      "outputs": [
        {
          "output_type": "display_data",
          "data": {
            "text/plain": [
              "<Figure size 1080x360 with 2 Axes>"
            ],
            "image/png": "[encoded data removed]"
          },
          "metadata": {
            "needs_background": "light"
          }
        }
      ]
    },
    {
      "cell_type": "markdown",
      "source": [
        "**Measuring the performance after decreasing the learning rate**"
      ],
      "metadata": {
        "id": "iINWTsMwGMgg"
      }
    },
    {
      "cell_type": "code",
      "source": [
        "y_pred_tr3 = np.argmax(model3.predict(X_train), axis=1).reshape(-1,1)\n",
        "y_pred_te3 = np.argmax(model3.predict(X_test), axis=1).reshape(-1,1)\n",
        "\n",
        "model_performance_class(y_train, y_pred_tr3, y_test, y_pred_te3)"
      ],
      "metadata": {
        "colab": {
          "base_uri": "https://localhost:8080/"
        },
        "id": "vIiHXvOQGMoi",
        "outputId": "18e3bc99-2fa4-421e-b9aa-e2ce1536054d"
      },
      "execution_count": 33,
      "outputs": [
        {
          "output_type": "stream",
          "name": "stdout",
          "text": [
            "21/21 [==============================] - 0s 2ms/step\n",
            "9/9 [==============================] - 0s 3ms/step\n",
            "Results obtained for the TRAIN SET\n",
            "==================================\n",
            "The Cohen's Kappa is: 0.99\n",
            "              precision    recall  f1-score   support\n",
            "\n",
            "       False       1.00      0.99      1.00       236\n",
            "        True       1.00      1.00      1.00       434\n",
            "\n",
            "    accuracy                           1.00       670\n",
            "   macro avg       1.00      1.00      1.00       670\n",
            "weighted avg       1.00      1.00      1.00       670\n",
            "\n",
            "==================================\n",
            "Results obtained for the TEST SET\n",
            "The Cohen's Kappa is: 0.97\n",
            "              precision    recall  f1-score   support\n",
            "\n",
            "       False       0.96      1.00      0.98        96\n",
            "        True       1.00      0.98      0.99       192\n",
            "\n",
            "    accuracy                           0.99       288\n",
            "   macro avg       0.98      0.99      0.98       288\n",
            "weighted avg       0.99      0.99      0.99       288\n",
            "\n"
          ]
        }
      ]
    },
    {
      "cell_type": "markdown",
      "source": [
        "### Increasing the epochs"
      ],
      "metadata": {
        "id": "rkSa7CSFNQQp"
      }
    },
    {
      "cell_type": "markdown",
      "source": [
        "**Creating the new model**"
      ],
      "metadata": {
        "id": "F4mjyEV4StPH"
      }
    },
    {
      "cell_type": "code",
      "source": [
        "model4 = keras.Sequential()\n",
        "#hidden layers\n",
        "model4.add(Dense(units = 64,input_dim = X_train.shape[1],activation='relu'))\n",
        "model4.add(Dense(units = 16,activation='relu'))\n",
        "model4.add(Dense(units = 8,activation='relu'))\n",
        "#final layer\n",
        "model4.add(Dense(units = 2, activation='softmax'))\n",
        "\n",
        "model4.compile(optimizer='adam', loss='sparse_categorical_crossentropy', metrics='accuracy')"
      ],
      "metadata": {
        "id": "cQ37Z_6INDjf"
      },
      "execution_count": 34,
      "outputs": []
    },
    {
      "cell_type": "markdown",
      "source": [
        "**Fitting the model**"
      ],
      "metadata": {
        "id": "oaqxX5aXSxA_"
      }
    },
    {
      "cell_type": "code",
      "source": [
        "history4 = model4.fit(X_train, y_train, epochs=500, validation_split=0.20, batch_size=20, callbacks=[early_stopping,checkpoint])"
      ],
      "metadata": {
        "colab": {
          "base_uri": "https://localhost:8080/"
        },
        "id": "HVRJedgbND5G",
        "outputId": "d9ec3253-aa14-4dbb-8d2e-307f657749dd"
      },
      "execution_count": 35,
      "outputs": [
        {
          "output_type": "stream",
          "name": "stdout",
          "text": [
            "Epoch 1/500\n",
            "22/27 [=======================>......] - ETA: 0s - loss: 0.6447 - accuracy: 0.6318  \n",
            "Epoch 1: saving model to /content/drive/MyDrive/Ironhack/Bootcamp/Deep_Learning_Lab/model.hdf5\n",
            "27/27 [==============================] - 4s 22ms/step - loss: 0.6368 - accuracy: 0.6418 - val_loss: 0.6058 - val_accuracy: 0.7015\n",
            "Epoch 2/500\n",
            "22/27 [=======================>......] - ETA: 0s - loss: 0.5787 - accuracy: 0.7023\n",
            "Epoch 2: saving model to /content/drive/MyDrive/Ironhack/Bootcamp/Deep_Learning_Lab/model.hdf5\n",
            "27/27 [==============================] - 1s 21ms/step - loss: 0.5751 - accuracy: 0.7108 - val_loss: 0.5718 - val_accuracy: 0.7015\n",
            "Epoch 3/500\n",
            "16/27 [================>.............] - ETA: 0s - loss: 0.5283 - accuracy: 0.7594\n",
            "Epoch 3: saving model to /content/drive/MyDrive/Ironhack/Bootcamp/Deep_Learning_Lab/model.hdf5\n",
            "27/27 [==============================] - 0s 7ms/step - loss: 0.5297 - accuracy: 0.7556 - val_loss: 0.5542 - val_accuracy: 0.6866\n",
            "Epoch 4/500\n",
            "24/27 [=========================>....] - ETA: 0s - loss: 0.4952 - accuracy: 0.7729\n",
            "Epoch 4: saving model to /content/drive/MyDrive/Ironhack/Bootcamp/Deep_Learning_Lab/model.hdf5\n",
            "27/27 [==============================] - 0s 6ms/step - loss: 0.4901 - accuracy: 0.7761 - val_loss: 0.5324 - val_accuracy: 0.6866\n",
            "Epoch 5/500\n",
            "20/27 [=====================>........] - ETA: 0s - loss: 0.4388 - accuracy: 0.8200\n",
            "Epoch 5: saving model to /content/drive/MyDrive/Ironhack/Bootcamp/Deep_Learning_Lab/model.hdf5\n",
            "27/27 [==============================] - 0s 7ms/step - loss: 0.4534 - accuracy: 0.7966 - val_loss: 0.5126 - val_accuracy: 0.7090\n",
            "Epoch 6/500\n",
            "25/27 [==========================>...] - ETA: 0s - loss: 0.4233 - accuracy: 0.8100\n",
            "Epoch 6: saving model to /content/drive/MyDrive/Ironhack/Bootcamp/Deep_Learning_Lab/model.hdf5\n",
            "27/27 [==============================] - 0s 6ms/step - loss: 0.4231 - accuracy: 0.8078 - val_loss: 0.4852 - val_accuracy: 0.7090\n",
            "Epoch 7/500\n",
            "23/27 [========================>.....] - ETA: 0s - loss: 0.3889 - accuracy: 0.8261\n",
            "Epoch 7: saving model to /content/drive/MyDrive/Ironhack/Bootcamp/Deep_Learning_Lab/model.hdf5\n",
            "27/27 [==============================] - 0s 7ms/step - loss: 0.3786 - accuracy: 0.8321 - val_loss: 0.4501 - val_accuracy: 0.7388\n",
            "Epoch 8/500\n",
            "24/27 [=========================>....] - ETA: 0s - loss: 0.3411 - accuracy: 0.8562\n",
            "Epoch 8: saving model to /content/drive/MyDrive/Ironhack/Bootcamp/Deep_Learning_Lab/model.hdf5\n",
            "27/27 [==============================] - 0s 6ms/step - loss: 0.3363 - accuracy: 0.8657 - val_loss: 0.4149 - val_accuracy: 0.7687\n",
            "Epoch 9/500\n",
            "23/27 [========================>.....] - ETA: 0s - loss: 0.2932 - accuracy: 0.8913\n",
            "Epoch 9: saving model to /content/drive/MyDrive/Ironhack/Bootcamp/Deep_Learning_Lab/model.hdf5\n",
            "27/27 [==============================] - 0s 6ms/step - loss: 0.2901 - accuracy: 0.8993 - val_loss: 0.3614 - val_accuracy: 0.8060\n",
            "Epoch 10/500\n",
            "24/27 [=========================>....] - ETA: 0s - loss: 0.2428 - accuracy: 0.9354\n",
            "Epoch 10: saving model to /content/drive/MyDrive/Ironhack/Bootcamp/Deep_Learning_Lab/model.hdf5\n",
            "27/27 [==============================] - 0s 7ms/step - loss: 0.2431 - accuracy: 0.9347 - val_loss: 0.3078 - val_accuracy: 0.8806\n",
            "Epoch 11/500\n",
            "23/27 [========================>.....] - ETA: 0s - loss: 0.1950 - accuracy: 0.9565\n",
            "Epoch 11: saving model to /content/drive/MyDrive/Ironhack/Bootcamp/Deep_Learning_Lab/model.hdf5\n",
            "27/27 [==============================] - 0s 6ms/step - loss: 0.1926 - accuracy: 0.9608 - val_loss: 0.2691 - val_accuracy: 0.9104\n",
            "Epoch 12/500\n",
            "23/27 [========================>.....] - ETA: 0s - loss: 0.1616 - accuracy: 0.9674\n",
            "Epoch 12: saving model to /content/drive/MyDrive/Ironhack/Bootcamp/Deep_Learning_Lab/model.hdf5\n",
            "27/27 [==============================] - 0s 6ms/step - loss: 0.1574 - accuracy: 0.9720 - val_loss: 0.2138 - val_accuracy: 0.9179\n",
            "Epoch 13/500\n",
            "23/27 [========================>.....] - ETA: 0s - loss: 0.1174 - accuracy: 0.9804\n",
            "Epoch 13: saving model to /content/drive/MyDrive/Ironhack/Bootcamp/Deep_Learning_Lab/model.hdf5\n",
            "27/27 [==============================] - 0s 7ms/step - loss: 0.1184 - accuracy: 0.9795 - val_loss: 0.2088 - val_accuracy: 0.9328\n",
            "Epoch 14/500\n",
            "21/27 [======================>.......] - ETA: 0s - loss: 0.0971 - accuracy: 0.9857\n",
            "Epoch 14: saving model to /content/drive/MyDrive/Ironhack/Bootcamp/Deep_Learning_Lab/model.hdf5\n",
            "27/27 [==============================] - 0s 6ms/step - loss: 0.0955 - accuracy: 0.9832 - val_loss: 0.1608 - val_accuracy: 0.9403\n",
            "Epoch 15/500\n",
            "25/27 [==========================>...] - ETA: 0s - loss: 0.0741 - accuracy: 0.9960\n",
            "Epoch 15: saving model to /content/drive/MyDrive/Ironhack/Bootcamp/Deep_Learning_Lab/model.hdf5\n",
            "27/27 [==============================] - 0s 6ms/step - loss: 0.0732 - accuracy: 0.9963 - val_loss: 0.1411 - val_accuracy: 0.9478\n",
            "Epoch 16/500\n",
            "24/27 [=========================>....] - ETA: 0s - loss: 0.0642 - accuracy: 0.9896\n",
            "Epoch 16: saving model to /content/drive/MyDrive/Ironhack/Bootcamp/Deep_Learning_Lab/model.hdf5\n",
            "27/27 [==============================] - 0s 6ms/step - loss: 0.0629 - accuracy: 0.9907 - val_loss: 0.1191 - val_accuracy: 0.9552\n",
            "Epoch 17/500\n",
            "21/27 [======================>.......] - ETA: 0s - loss: 0.0455 - accuracy: 0.9976\n",
            "Epoch 17: saving model to /content/drive/MyDrive/Ironhack/Bootcamp/Deep_Learning_Lab/model.hdf5\n",
            "27/27 [==============================] - 0s 6ms/step - loss: 0.0498 - accuracy: 0.9963 - val_loss: 0.1037 - val_accuracy: 0.9627\n",
            "Epoch 18/500\n",
            "23/27 [========================>.....] - ETA: 0s - loss: 0.0419 - accuracy: 0.9978\n",
            "Epoch 18: saving model to /content/drive/MyDrive/Ironhack/Bootcamp/Deep_Learning_Lab/model.hdf5\n",
            "27/27 [==============================] - 0s 6ms/step - loss: 0.0408 - accuracy: 0.9981 - val_loss: 0.1005 - val_accuracy: 0.9627\n",
            "Epoch 19/500\n",
            "22/27 [=======================>......] - ETA: 0s - loss: 0.0309 - accuracy: 1.0000\n",
            "Epoch 19: saving model to /content/drive/MyDrive/Ironhack/Bootcamp/Deep_Learning_Lab/model.hdf5\n",
            "27/27 [==============================] - 0s 6ms/step - loss: 0.0314 - accuracy: 1.0000 - val_loss: 0.0972 - val_accuracy: 0.9701\n",
            "Epoch 20/500\n",
            "25/27 [==========================>...] - ETA: 0s - loss: 0.0261 - accuracy: 1.0000\n",
            "Epoch 20: saving model to /content/drive/MyDrive/Ironhack/Bootcamp/Deep_Learning_Lab/model.hdf5\n",
            "27/27 [==============================] - 0s 6ms/step - loss: 0.0266 - accuracy: 1.0000 - val_loss: 0.0770 - val_accuracy: 0.9627\n",
            "Epoch 21/500\n",
            "24/27 [=========================>....] - ETA: 0s - loss: 0.0233 - accuracy: 1.0000\n",
            "Epoch 21: saving model to /content/drive/MyDrive/Ironhack/Bootcamp/Deep_Learning_Lab/model.hdf5\n",
            "27/27 [==============================] - 0s 6ms/step - loss: 0.0223 - accuracy: 1.0000 - val_loss: 0.0798 - val_accuracy: 0.9776\n",
            "Epoch 22/500\n",
            "19/27 [====================>.........] - ETA: 0s - loss: 0.0219 - accuracy: 1.0000\n",
            "Epoch 22: saving model to /content/drive/MyDrive/Ironhack/Bootcamp/Deep_Learning_Lab/model.hdf5\n",
            "27/27 [==============================] - 0s 7ms/step - loss: 0.0208 - accuracy: 1.0000 - val_loss: 0.0686 - val_accuracy: 0.9627\n",
            "Epoch 23/500\n",
            "20/27 [=====================>........] - ETA: 0s - loss: 0.0168 - accuracy: 1.0000\n",
            "Epoch 23: saving model to /content/drive/MyDrive/Ironhack/Bootcamp/Deep_Learning_Lab/model.hdf5\n",
            "27/27 [==============================] - 0s 7ms/step - loss: 0.0166 - accuracy: 1.0000 - val_loss: 0.0710 - val_accuracy: 0.9776\n",
            "Epoch 24/500\n",
            "24/27 [=========================>....] - ETA: 0s - loss: 0.0141 - accuracy: 1.0000\n",
            "Epoch 24: saving model to /content/drive/MyDrive/Ironhack/Bootcamp/Deep_Learning_Lab/model.hdf5\n",
            "27/27 [==============================] - 0s 6ms/step - loss: 0.0140 - accuracy: 1.0000 - val_loss: 0.0690 - val_accuracy: 0.9627\n",
            "Epoch 25/500\n",
            "19/27 [====================>.........] - ETA: 0s - loss: 0.0144 - accuracy: 1.0000\n",
            "Epoch 25: saving model to /content/drive/MyDrive/Ironhack/Bootcamp/Deep_Learning_Lab/model.hdf5\n",
            "27/27 [==============================] - 0s 7ms/step - loss: 0.0134 - accuracy: 1.0000 - val_loss: 0.0597 - val_accuracy: 0.9776\n",
            "Epoch 26/500\n",
            "16/27 [================>.............] - ETA: 0s - loss: 0.0106 - accuracy: 1.0000\n",
            "Epoch 26: saving model to /content/drive/MyDrive/Ironhack/Bootcamp/Deep_Learning_Lab/model.hdf5\n",
            "27/27 [==============================] - 0s 6ms/step - loss: 0.0109 - accuracy: 1.0000 - val_loss: 0.0665 - val_accuracy: 0.9776\n",
            "Epoch 27/500\n",
            "24/27 [=========================>....] - ETA: 0s - loss: 0.0089 - accuracy: 1.0000\n",
            "Epoch 27: saving model to /content/drive/MyDrive/Ironhack/Bootcamp/Deep_Learning_Lab/model.hdf5\n",
            "27/27 [==============================] - 0s 6ms/step - loss: 0.0093 - accuracy: 1.0000 - val_loss: 0.0586 - val_accuracy: 0.9776\n",
            "Epoch 28/500\n",
            "21/27 [======================>.......] - ETA: 0s - loss: 0.0076 - accuracy: 1.0000\n",
            "Epoch 28: saving model to /content/drive/MyDrive/Ironhack/Bootcamp/Deep_Learning_Lab/model.hdf5\n",
            "27/27 [==============================] - 0s 7ms/step - loss: 0.0081 - accuracy: 1.0000 - val_loss: 0.0635 - val_accuracy: 0.9776\n",
            "Epoch 29/500\n",
            "25/27 [==========================>...] - ETA: 0s - loss: 0.0067 - accuracy: 1.0000\n",
            "Epoch 29: saving model to /content/drive/MyDrive/Ironhack/Bootcamp/Deep_Learning_Lab/model.hdf5\n",
            "27/27 [==============================] - 0s 6ms/step - loss: 0.0074 - accuracy: 1.0000 - val_loss: 0.0588 - val_accuracy: 0.9776\n",
            "Epoch 30/500\n",
            "24/27 [=========================>....] - ETA: 0s - loss: 0.0067 - accuracy: 1.0000\n",
            "Epoch 30: saving model to /content/drive/MyDrive/Ironhack/Bootcamp/Deep_Learning_Lab/model.hdf5\n",
            "27/27 [==============================] - 0s 6ms/step - loss: 0.0067 - accuracy: 1.0000 - val_loss: 0.0596 - val_accuracy: 0.9776\n",
            "Epoch 31/500\n",
            "24/27 [=========================>....] - ETA: 0s - loss: 0.0061 - accuracy: 1.0000\n",
            "Epoch 31: saving model to /content/drive/MyDrive/Ironhack/Bootcamp/Deep_Learning_Lab/model.hdf5\n",
            "27/27 [==============================] - 0s 6ms/step - loss: 0.0060 - accuracy: 1.0000 - val_loss: 0.0584 - val_accuracy: 0.9701\n",
            "Epoch 32/500\n",
            "24/27 [=========================>....] - ETA: 0s - loss: 0.0054 - accuracy: 1.0000\n",
            "Epoch 32: saving model to /content/drive/MyDrive/Ironhack/Bootcamp/Deep_Learning_Lab/model.hdf5\n",
            "27/27 [==============================] - 0s 6ms/step - loss: 0.0055 - accuracy: 1.0000 - val_loss: 0.0580 - val_accuracy: 0.9776\n",
            "Epoch 33/500\n",
            "22/27 [=======================>......] - ETA: 0s - loss: 0.0047 - accuracy: 1.0000\n",
            "Epoch 33: saving model to /content/drive/MyDrive/Ironhack/Bootcamp/Deep_Learning_Lab/model.hdf5\n",
            "27/27 [==============================] - 0s 8ms/step - loss: 0.0049 - accuracy: 1.0000 - val_loss: 0.0524 - val_accuracy: 0.9776\n",
            "Epoch 34/500\n",
            "19/27 [====================>.........] - ETA: 0s - loss: 0.0044 - accuracy: 1.0000\n",
            "Epoch 34: saving model to /content/drive/MyDrive/Ironhack/Bootcamp/Deep_Learning_Lab/model.hdf5\n",
            "27/27 [==============================] - 0s 7ms/step - loss: 0.0044 - accuracy: 1.0000 - val_loss: 0.0578 - val_accuracy: 0.9776\n",
            "Epoch 35/500\n",
            "22/27 [=======================>......] - ETA: 0s - loss: 0.0041 - accuracy: 1.0000\n",
            "Epoch 35: saving model to /content/drive/MyDrive/Ironhack/Bootcamp/Deep_Learning_Lab/model.hdf5\n",
            "27/27 [==============================] - 0s 6ms/step - loss: 0.0040 - accuracy: 1.0000 - val_loss: 0.0566 - val_accuracy: 0.9851\n",
            "Epoch 36/500\n",
            "22/27 [=======================>......] - ETA: 0s - loss: 0.0038 - accuracy: 1.0000\n",
            "Epoch 36: saving model to /content/drive/MyDrive/Ironhack/Bootcamp/Deep_Learning_Lab/model.hdf5\n",
            "27/27 [==============================] - 0s 6ms/step - loss: 0.0038 - accuracy: 1.0000 - val_loss: 0.0549 - val_accuracy: 0.9776\n",
            "Epoch 37/500\n",
            "20/27 [=====================>........] - ETA: 0s - loss: 0.0036 - accuracy: 1.0000\n",
            "Epoch 37: saving model to /content/drive/MyDrive/Ironhack/Bootcamp/Deep_Learning_Lab/model.hdf5\n",
            "27/27 [==============================] - 0s 7ms/step - loss: 0.0035 - accuracy: 1.0000 - val_loss: 0.0532 - val_accuracy: 0.9776\n",
            "Epoch 38/500\n",
            "23/27 [========================>.....] - ETA: 0s - loss: 0.0032 - accuracy: 1.0000\n",
            "Epoch 38: saving model to /content/drive/MyDrive/Ironhack/Bootcamp/Deep_Learning_Lab/model.hdf5\n",
            "27/27 [==============================] - 0s 6ms/step - loss: 0.0033 - accuracy: 1.0000 - val_loss: 0.0514 - val_accuracy: 0.9701\n",
            "Epoch 39/500\n",
            "24/27 [=========================>....] - ETA: 0s - loss: 0.0031 - accuracy: 1.0000\n",
            "Epoch 39: saving model to /content/drive/MyDrive/Ironhack/Bootcamp/Deep_Learning_Lab/model.hdf5\n",
            "27/27 [==============================] - 0s 6ms/step - loss: 0.0030 - accuracy: 1.0000 - val_loss: 0.0540 - val_accuracy: 0.9701\n",
            "Epoch 40/500\n",
            "26/27 [===========================>..] - ETA: 0s - loss: 0.0028 - accuracy: 1.0000\n",
            "Epoch 40: saving model to /content/drive/MyDrive/Ironhack/Bootcamp/Deep_Learning_Lab/model.hdf5\n",
            "27/27 [==============================] - 0s 6ms/step - loss: 0.0029 - accuracy: 1.0000 - val_loss: 0.0537 - val_accuracy: 0.9851\n",
            "Epoch 41/500\n",
            "22/27 [=======================>......] - ETA: 0s - loss: 0.0028 - accuracy: 1.0000\n",
            "Epoch 41: saving model to /content/drive/MyDrive/Ironhack/Bootcamp/Deep_Learning_Lab/model.hdf5\n",
            "27/27 [==============================] - 0s 6ms/step - loss: 0.0026 - accuracy: 1.0000 - val_loss: 0.0541 - val_accuracy: 0.9776\n",
            "Epoch 42/500\n",
            "23/27 [========================>.....] - ETA: 0s - loss: 0.0025 - accuracy: 1.0000\n",
            "Epoch 42: saving model to /content/drive/MyDrive/Ironhack/Bootcamp/Deep_Learning_Lab/model.hdf5\n",
            "27/27 [==============================] - 0s 6ms/step - loss: 0.0023 - accuracy: 1.0000 - val_loss: 0.0514 - val_accuracy: 0.9851\n",
            "Epoch 43/500\n",
            "23/27 [========================>.....] - ETA: 0s - loss: 0.0023 - accuracy: 1.0000\n",
            "Epoch 43: saving model to /content/drive/MyDrive/Ironhack/Bootcamp/Deep_Learning_Lab/model.hdf5\n",
            "27/27 [==============================] - 0s 6ms/step - loss: 0.0022 - accuracy: 1.0000 - val_loss: 0.0522 - val_accuracy: 0.9851\n"
          ]
        }
      ]
    },
    {
      "cell_type": "markdown",
      "source": [
        "**Plotting the metrics through epochs**"
      ],
      "metadata": {
        "id": "vCr-qwfCS5xW"
      }
    },
    {
      "cell_type": "code",
      "source": [
        "plot_metrics(history4,'loss','accuracy')"
      ],
      "metadata": {
        "colab": {
          "base_uri": "https://localhost:8080/",
          "height": 334
        },
        "id": "CvxYYaydND-1",
        "outputId": "7862f159-2960-4cef-ff0f-2960c19aa52e"
      },
      "execution_count": 36,
      "outputs": [
        {
          "output_type": "display_data",
          "data": {
            "text/plain": [
              "<Figure size 1080x360 with 2 Axes>"
            ],
            "image/png": "[encoded data removed]"
          },
          "metadata": {
            "needs_background": "light"
          }
        }
      ]
    },
    {
      "cell_type": "markdown",
      "source": [
        "**Measuring the performance after increasing the epochs**"
      ],
      "metadata": {
        "id": "9O6ao16hTGhg"
      }
    },
    {
      "cell_type": "code",
      "source": [
        "y_pred_tr4 = np.argmax(model4.predict(X_train), axis=1).reshape(-1,1)\n",
        "y_pred_te4 = np.argmax(model4.predict(X_test), axis=1).reshape(-1,1)\n",
        "\n",
        "model_performance_class(y_train, y_pred_tr4, y_test, y_pred_te4)"
      ],
      "metadata": {
        "colab": {
          "base_uri": "https://localhost:8080/"
        },
        "id": "-PufFQzKNECf",
        "outputId": "1683385c-e25a-43cc-e82b-66b2e1a354b6"
      },
      "execution_count": 37,
      "outputs": [
        {
          "output_type": "stream",
          "name": "stdout",
          "text": [
            "21/21 [==============================] - 0s 2ms/step\n",
            "9/9 [==============================] - 0s 3ms/step\n",
            "Results obtained for the TRAIN SET\n",
            "==================================\n",
            "The Cohen's Kappa is: 0.99\n",
            "              precision    recall  f1-score   support\n",
            "\n",
            "       False       0.99      1.00      1.00       236\n",
            "        True       1.00      1.00      1.00       434\n",
            "\n",
            "    accuracy                           1.00       670\n",
            "   macro avg       1.00      1.00      1.00       670\n",
            "weighted avg       1.00      1.00      1.00       670\n",
            "\n",
            "==================================\n",
            "Results obtained for the TEST SET\n",
            "The Cohen's Kappa is: 0.95\n",
            "              precision    recall  f1-score   support\n",
            "\n",
            "       False       0.94      0.99      0.96        96\n",
            "        True       0.99      0.97      0.98       192\n",
            "\n",
            "    accuracy                           0.98       288\n",
            "   macro avg       0.97      0.98      0.97       288\n",
            "weighted avg       0.98      0.98      0.98       288\n",
            "\n"
          ]
        }
      ]
    },
    {
      "cell_type": "markdown",
      "metadata": {
        "id": "ctCkDM1Sxqfp"
      },
      "source": [
        "**Which approach(es) did you find helpful to improve your model performance?**"
      ]
    },
    {
      "cell_type": "markdown",
      "source": [
        "Adding a new layer gave us the best result but the other approaches also improved the original model but decrased the performance after applying the new layer, but the model was already quite good form the beggining."
      ],
      "metadata": {
        "id": "K7ATIi8sRVY-"
      }
    }
  ],
  "metadata": {
    "kernelspec": {
      "display_name": "Python 3",
      "language": "python",
      "name": "python3"
    },
    "language_info": {
      "codemirror_mode": {
        "name": "ipython",
        "version": 3
      },
      "file_extension": ".py",
      "mimetype": "text/x-python",
      "name": "python",
      "nbconvert_exporter": "python",
      "pygments_lexer": "ipython3",
      "version": "3.7.3"
    },
    "colab": {
      "provenance": []
    }
  },
  "nbformat": 4,
  "nbformat_minor": 0
}